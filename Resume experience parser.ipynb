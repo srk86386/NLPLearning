{
 "cells": [
  {
   "cell_type": "code",
   "execution_count": 1,
   "metadata": {},
   "outputs": [],
   "source": [
    "from pdfminer.pdfparser import PDFParser, PDFDocument\n",
    "from pdfminer.pdfinterp import PDFResourceManager, PDFPageInterpreter\n",
    "from pdfminer.converter import PDFPageAggregator\n",
    "from pdfminer.layout import LAParams, LTTextBox, LTTextLine\n",
    "\n",
    "import re\n",
    "import nltk"
   ]
  },
  {
   "cell_type": "code",
   "execution_count": 2,
   "metadata": {},
   "outputs": [],
   "source": [
    "def readPDF(fp):\n",
    "    file = open(fp , 'rb')\n",
    "    parser = PDFParser(file)\n",
    "    doc = PDFDocument()\n",
    "    parser.set_document(doc)\n",
    "    doc.set_parser(parser)\n",
    "    doc.initialize('')\n",
    "    rsrcmgr = PDFResourceManager()\n",
    "    laparams = LAParams()\n",
    "    #I changed the following 2 parameters to get rid of white spaces inside words:\n",
    "    laparams.char_margin = 1.0\n",
    "    laparams.word_margin = 1.0\n",
    "    device = PDFPageAggregator(rsrcmgr, laparams=laparams)\n",
    "    interpreter = PDFPageInterpreter(rsrcmgr, device)\n",
    "    extracted_text = ''\n",
    "\n",
    "    # Process each page contained in the document.\n",
    "    for page in doc.get_pages():\n",
    "        interpreter.process_page(page)\n",
    "        layout = device.get_result()\n",
    "        for lt_obj in layout:\n",
    "            if isinstance(lt_obj, LTTextBox) or isinstance(lt_obj, LTTextLine):\n",
    "                #extracted_text += string\n",
    "                extracted_text += lt_obj.get_text()\n",
    "\n",
    "    #with open('convertedFile.txt',\"wb\") as txt_file:\n",
    "    #    txt_file.write(extracted_text.encode(\"utf-8\"))\n",
    "    return extracted_text"
   ]
  },
  {
   "cell_type": "code",
   "execution_count": 3,
   "metadata": {},
   "outputs": [
    {
     "name": "stderr",
     "output_type": "stream",
     "text": [
      "WARNING:root:Cannot locate objid=162\n"
     ]
    },
    {
     "data": {
      "text/plain": [
       "['Tejas Shahasane                                                                                                          ',\n",
       " 'Email         :  tejas.shahasane92@gmail.com ',\n",
       " 'Mobile      :  +91-8097058997/9082944018 ',\n",
       " 'SUMMARY ',\n",
       " 'ISTQB Certified Tester with 4+ years’ of experience in software testing. Good understanding of Software testing  ',\n",
       " 'Life cycle, Defect life cycle, Planning activities, Execution and ensuring client requirements are met with excellent ',\n",
       " 'solutions.  ',\n",
       " 'EDUCATION  ',\n",
       " 'Bachelor in Information Technology, 2013 (MUMBAI UNIVERSITY) ',\n",
       " 'CERTIFICATION ',\n",
       " 'ISTQB Foundation Level Certification (December 2015) ',\n",
       " 'TECHNOLOGY SKILLS  ',\n",
       " 'Defect Management    :   ALM, HP 10 Quality Center, JIRA, Mantis ',\n",
       " 'Database                        :   MS SQL  ',\n",
       " 'Operating System         :   Windows  ',\n",
       " 'EXPERIENCE ',\n",
       " '1. Organization :  Capgemini – Mumbai (Airoli) ',\n",
       " 'Client:  Guidewire  ',\n",
       " 'Role:  Associate Consultant ',\n",
       " 'Project: GuideOne Insurance (Oct 2016 – Till Date)  ',\n",
       " 'Domain: General Insurance (Property and Casualty Insurance) ',\n",
       " 'Description:  ',\n",
       " 'GuideOne Insurance is a niche market insurer and is one of the largest church insurers in the United States. ',\n",
       " 'GuideOne develops insurance solutions specially designed for churches, schools (K-12) and higher education ',\n",
       " '(colleges, universities, and seminaries), home care providers, senior living communities, and nonprofit ',\n",
       " 'organizations. ',\n",
       " '                                                                                                                                                                                  ',\n",
       " '                                                                                                                                                                  ',\n",
       " ' ',\n",
       " ' ',\n",
       " ' ',\n",
       " ' ',\n",
       " ' ',\n",
       " ' ',\n",
       " ' ',\n",
       " ' ',\n",
       " ' ',\n",
       " ' ',\n",
       " ' ',\n",
       " ' ',\n",
       " ' ',\n",
       " ' ',\n",
       " ' ',\n",
       " 'Responsibilities: ',\n",
       " '\\uf0a7 ',\n",
       " '\\uf0a7 ',\n",
       " '\\uf0a7 ',\n",
       " '\\uf0a7 ',\n",
       " '\\uf0a7 ',\n",
       " '\\uf0a7 ',\n",
       " '\\uf0a7 ',\n",
       " '\\uf0a7 ',\n",
       " 'Preparation of  test scenarios  and  test cases from the Business Requirement Document. ',\n",
       " 'Designing and presenting created test cases to the Lead/BA / Client and getting approvals for same. ',\n",
       " 'Reviewing requirement documents and preparation of query log. ',\n",
       " 'Adding/Updating test cases in ALM as per change request  ',\n",
       " 'Execution of test cases and identifying potential defects in application. ',\n",
       " 'Retesting and Tracking raised or assigned defects till the closure. ',\n",
       " 'Coordinating with Onsite team for the daily status calls and updates. ',\n",
       " 'Every week preparation of WSR (Weekly Status Report) ',\n",
       " '2. Organization: Innova Solutions - Chennai ',\n",
       " 'Client:  ICICI Prudential Life Insurance ',\n",
       " 'Role: Software Test Engineer ',\n",
       " 'Project: ICICI Prudential Life Insurance (Feb 2016 – Oct 2016)  ',\n",
       " 'Domain: Life Insurance ',\n",
       " 'Description:  ',\n",
       " 'ICICI Prudential offers a wide range of insurance products across different categories to its customers such as Term ',\n",
       " 'Life Insurance, Wealth Insurance Plans, Retirement or Pension (annuity) Plans and Rural Plans. ',\n",
       " 'Responsibilities: ',\n",
       " '\\uf0a7 ',\n",
       " '\\uf0a7 ',\n",
       " '\\uf0a7 ',\n",
       " '\\uf0a7 ',\n",
       " '\\uf0a7 ',\n",
       " 'Understanding requirements through detailed study of the BRD and raising queries. ',\n",
       " 'Studying BRD/Change requests with  BA and understanding the impact  ',\n",
       " 'Preparation of test cases and executing same. ',\n",
       " 'Reviewing defects found with BA and testing closely with Development Team. ',\n",
       " 'Manual testing on various platforms like Android mobile, Tablet, I pad. ',\n",
       " '3. Organization: Tata Consultancy Services - Mumbai ',\n",
       " 'Client: Citi Bank ',\n",
       " 'Role:  Software Tester  ',\n",
       " '1. Project: The Foreign Account Tax Compliance Act (FATCA)    (March 2014 – Jan 2016) ',\n",
       " 'Domain: Banking / Regulatory ',\n",
       " 'Description: ',\n",
       " 'FATCA is intended to increase transparency for the Internal Revenue Service (IRS) about U.S. persons that may be ',\n",
       " 'investing & earning income through non-U.S. institutions. Goal of FATCA is to gain information about U.S. persons, ',\n",
       " 'law imposes 30% tax withholding where the applicable documentation & reporting requirements are not met.  ',\n",
       " '                                                                                                                                                                                  ',\n",
       " ' ',\n",
       " ' ',\n",
       " ' ',\n",
       " ' ',\n",
       " ' ',\n",
       " ' ',\n",
       " 'Responsibilities: ',\n",
       " '\\uf0a7 ',\n",
       " '\\uf0a7 ',\n",
       " '\\uf0a7 ',\n",
       " '\\uf0a7 ',\n",
       " '\\uf0a7 ',\n",
       " 'Understanding requirements through detailed study of the BRD, FRD. ',\n",
       " 'Preparation of business scenarios, test cases and scripts on the basis of the FRD’s provided. ',\n",
       " 'Participating in the business scenarios walk through session for explaining the scenarios. ',\n",
       " 'Creating test cases, process flows, query log and test data for execution. ',\n",
       " 'Giving walk-through to clients on Test Scenarios & attending Defect Triage calls. ',\n",
       " '2. Project: Next Generation Middle Office Trade Operations   (Oct 2013 –March 2014) ',\n",
       " 'Domain: Trading ',\n",
       " 'Description: ',\n",
       " 'Next Generation Middle Office Trade Operations (Middle Office Application) is a part of CITI, Securities and Fund ',\n",
       " 'Services which is a huge domain that support all the trading related functionality.  ',\n",
       " 'Responsibilities: ',\n",
       " '\\uf0a7 ',\n",
       " '\\uf0a7 ',\n",
       " '\\uf0a7 ',\n",
       " 'Understanding requirements through detailed study of the BRD & FRD. ',\n",
       " 'Executing the test cases and comparing test output with expected output. ',\n",
       " 'Identifying & tracking potential defects in the system. ',\n",
       " 'Personal Details ',\n",
       " 'Date of Birth : 21st November 1992 ',\n",
       " 'Address          :  3/4, Shobhnath Shukla bhavan, Majas Wadi, Jogeshwari (E), Mumbai – 400060 ',\n",
       " 'PAN Card        : DFOPS8559Q ',\n",
       " 'DECLARATION  ',\n",
       " 'I hereby declare that the above mentioned details are true and correct to the best of my knowledge and belief. ',\n",
       " '                                                                                                                                                                        Tejas Shahasane ',\n",
       " '                                                                                                                                                                                  ',\n",
       " ' ',\n",
       " ' ',\n",
       " ' ',\n",
       " ' ',\n",
       " ' ',\n",
       " ' ',\n",
       " ' ',\n",
       " '                                                                                                                                                                      ',\n",
       " '']"
      ]
     },
     "execution_count": 3,
     "metadata": {},
     "output_type": "execute_result"
    }
   ],
   "source": [
    "ext_data  = readPDF(\"TejasSresume.pdf\")\n",
    "ext_data.split('\\n')"
   ]
  },
  {
   "cell_type": "code",
   "execution_count": 4,
   "metadata": {},
   "outputs": [],
   "source": [
    "def tagWords(data):\n",
    "    lines = [el.strip() for el in data.split('\\n') if len(el) > 0]\n",
    "    lines =[nltk.word_tokenize(el) for el in lines]\n",
    "    lines = [nltk.pos_tag(el) for el in lines]\n",
    "    return lines"
   ]
  },
  {
   "cell_type": "code",
   "execution_count": 5,
   "metadata": {},
   "outputs": [],
   "source": [
    "def expExtract(dataLines):\n",
    "    n = 0\n",
    "    k = 0\n",
    "    experiance = 0\n",
    "    for sentences in dataLines:\n",
    "        n+=1\n",
    "        sen=\" \".join([words[0].lower() for words in sentences])\n",
    "\n",
    "        if re.search('experience', sen):\n",
    "            #selected only the lines which have experiance word in it\n",
    "            k +=1\n",
    "            #print(sen)\n",
    "            sent_tockenised = nltk.word_tokenize(sen)\n",
    "            tagged = nltk.pos_tag(sent_tockenised)\n",
    "            #print(tagged)\n",
    "            entities = nltk.chunk.ne_chunk(tagged)\n",
    "            #print(entities)\n",
    "            #for subtree in entities.subtree():\n",
    "            for leaf in entities.leaves():\n",
    "                if leaf[1]=='CD':\n",
    "                    exValue = re.sub('[^0-9]','', leaf[0])\n",
    "                    if exValue != \"\":\n",
    "                        experiance = exValue\n",
    "    return experiance"
   ]
  },
  {
   "cell_type": "code",
   "execution_count": 6,
   "metadata": {},
   "outputs": [
    {
     "name": "stderr",
     "output_type": "stream",
     "text": [
      "WARNING:root:Cannot locate objid=162\n"
     ]
    }
   ],
   "source": [
    "ext_data  = readPDF(\"TejasSresume.pdf\")\n",
    "#ext_data.split('\\n')\n",
    "taggedLine = tagWords(ext_data)\n",
    "#print(taggedLine)\n",
    "#print(\"total years of experiance is :\",expExtract(taggedLine))"
   ]
  },
  {
   "cell_type": "code",
   "execution_count": 7,
   "metadata": {},
   "outputs": [
    {
     "name": "stdout",
     "output_type": "stream",
     "text": [
      "Resume name: 'Nilesh Resume.pdf' Experiance '2'\n"
     ]
    },
    {
     "name": "stderr",
     "output_type": "stream",
     "text": [
      "WARNING:root:Cannot locate objid=162\n"
     ]
    },
    {
     "name": "stdout",
     "output_type": "stream",
     "text": [
      "Resume name: 'Pallavi CV.pdf' Experiance '2'\n"
     ]
    },
    {
     "name": "stderr",
     "output_type": "stream",
     "text": [
      "WARNING:root:Cannot locate objid=200\n"
     ]
    },
    {
     "name": "stdout",
     "output_type": "stream",
     "text": [
      "Resume name: 'TejasSresume.pdf' Experiance '4'\n",
      "Resume name: 'RahulDS.pdf' Experiance '3'\n"
     ]
    }
   ],
   "source": [
    "resumes = [\"Nilesh Resume.pdf\" , \"Pallavi CV.pdf\", \"TejasSresume.pdf\", \"RahulDS.pdf\"]\n",
    "for resume in resumes:\n",
    "    resumeData = readPDF(resume)\n",
    "    dataLines = tagWords(resumeData)\n",
    "    exp = expExtract(dataLines)\n",
    "    print(f\"Resume name: '{resume}' Experiance '{exp}'\")"
   ]
  },
  {
   "cell_type": "code",
   "execution_count": null,
   "metadata": {},
   "outputs": [],
   "source": []
  }
 ],
 "metadata": {
  "kernelspec": {
   "display_name": "Python 3",
   "language": "python",
   "name": "python3"
  },
  "language_info": {
   "codemirror_mode": {
    "name": "ipython",
    "version": 3
   },
   "file_extension": ".py",
   "mimetype": "text/x-python",
   "name": "python",
   "nbconvert_exporter": "python",
   "pygments_lexer": "ipython3",
   "version": "3.7.3"
  }
 },
 "nbformat": 4,
 "nbformat_minor": 2
}
