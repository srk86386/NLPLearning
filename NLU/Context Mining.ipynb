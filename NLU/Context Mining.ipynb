{
 "cells": [
  {
   "cell_type": "code",
   "execution_count": 87,
   "metadata": {},
   "outputs": [],
   "source": [
    "import nltk\n",
    "import re\n",
    "import pandas as pd\n",
    "from textblob import TextBlob"
   ]
  },
  {
   "cell_type": "code",
   "execution_count": 88,
   "metadata": {},
   "outputs": [],
   "source": [
    "reviewsDF = pd.read_csv(\"samsung-galaxy-s10-prism-white-128-gb-\", index_col=0)"
   ]
  },
  {
   "cell_type": "code",
   "execution_count": 89,
   "metadata": {},
   "outputs": [
    {
     "data": {
      "text/html": [
       "<div>\n",
       "<style scoped>\n",
       "    .dataframe tbody tr th:only-of-type {\n",
       "        vertical-align: middle;\n",
       "    }\n",
       "\n",
       "    .dataframe tbody tr th {\n",
       "        vertical-align: top;\n",
       "    }\n",
       "\n",
       "    .dataframe thead th {\n",
       "        text-align: right;\n",
       "    }\n",
       "</style>\n",
       "<table border=\"1\" class=\"dataframe\">\n",
       "  <thead>\n",
       "    <tr style=\"text-align: right;\">\n",
       "      <th></th>\n",
       "      <th>author</th>\n",
       "      <th>rating</th>\n",
       "      <th>title</th>\n",
       "      <th>text</th>\n",
       "      <th>totalCount</th>\n",
       "      <th>downvote</th>\n",
       "      <th>upvote</th>\n",
       "    </tr>\n",
       "  </thead>\n",
       "  <tbody>\n",
       "    <tr>\n",
       "      <th>0</th>\n",
       "      <td>Pravesh  Shilotri</td>\n",
       "      <td>5</td>\n",
       "      <td>Worth every penny</td>\n",
       "      <td>Awesome Mobile.!</td>\n",
       "      <td>721</td>\n",
       "      <td>77</td>\n",
       "      <td>644</td>\n",
       "    </tr>\n",
       "    <tr>\n",
       "      <th>1</th>\n",
       "      <td>Mrityunjay Pandey</td>\n",
       "      <td>5</td>\n",
       "      <td>Just wow!</td>\n",
       "      <td>Awesome camera.</td>\n",
       "      <td>330</td>\n",
       "      <td>38</td>\n",
       "      <td>292</td>\n",
       "    </tr>\n",
       "    <tr>\n",
       "      <th>2</th>\n",
       "      <td>Ravi Raj</td>\n",
       "      <td>4</td>\n",
       "      <td>Really Nice</td>\n",
       "      <td>Awesome Purchase &amp; Fast DELIVERY as well.The o...</td>\n",
       "      <td>99</td>\n",
       "      <td>10</td>\n",
       "      <td>89</td>\n",
       "    </tr>\n",
       "    <tr>\n",
       "      <th>3</th>\n",
       "      <td>Kartik Pareek</td>\n",
       "      <td>5</td>\n",
       "      <td>Fabulous!</td>\n",
       "      <td>As expected, Samsung decided to bring in its b...</td>\n",
       "      <td>412</td>\n",
       "      <td>59</td>\n",
       "      <td>353</td>\n",
       "    </tr>\n",
       "    <tr>\n",
       "      <th>4</th>\n",
       "      <td>Mehul  Badiyani</td>\n",
       "      <td>5</td>\n",
       "      <td>Great product</td>\n",
       "      <td>Got phone in only three days in tier 3 town ci...</td>\n",
       "      <td>189</td>\n",
       "      <td>26</td>\n",
       "      <td>163</td>\n",
       "    </tr>\n",
       "    <tr>\n",
       "      <th>5</th>\n",
       "      <td>Nimish Taneja</td>\n",
       "      <td>5</td>\n",
       "      <td>Fabulous!</td>\n",
       "      <td>Amazing Piece of ART! Samsung really never hes...</td>\n",
       "      <td>626</td>\n",
       "      <td>106</td>\n",
       "      <td>520</td>\n",
       "    </tr>\n",
       "    <tr>\n",
       "      <th>6</th>\n",
       "      <td>Flipkart Customer</td>\n",
       "      <td>5</td>\n",
       "      <td>Wonderful</td>\n",
       "      <td>Great phone. Feel is great. sure value for money.</td>\n",
       "      <td>59</td>\n",
       "      <td>6</td>\n",
       "      <td>53</td>\n",
       "    </tr>\n",
       "    <tr>\n",
       "      <th>7</th>\n",
       "      <td>Aritra Sengupta</td>\n",
       "      <td>5</td>\n",
       "      <td>Must buy!</td>\n",
       "      <td>The Samsung Galaxy S10 plus is an phenomenal s...</td>\n",
       "      <td>23</td>\n",
       "      <td>1</td>\n",
       "      <td>22</td>\n",
       "    </tr>\n",
       "  </tbody>\n",
       "</table>\n",
       "</div>"
      ],
      "text/plain": [
       "              author  rating              title  \\\n",
       "0  Pravesh  Shilotri       5  Worth every penny   \n",
       "1  Mrityunjay Pandey       5          Just wow!   \n",
       "2           Ravi Raj       4        Really Nice   \n",
       "3      Kartik Pareek       5          Fabulous!   \n",
       "4   Mehul  Badiyani        5      Great product   \n",
       "5      Nimish Taneja       5          Fabulous!   \n",
       "6  Flipkart Customer       5          Wonderful   \n",
       "7    Aritra Sengupta       5          Must buy!   \n",
       "\n",
       "                                                text  totalCount  downvote  \\\n",
       "0                                   Awesome Mobile.!         721        77   \n",
       "1                                    Awesome camera.         330        38   \n",
       "2  Awesome Purchase & Fast DELIVERY as well.The o...          99        10   \n",
       "3  As expected, Samsung decided to bring in its b...         412        59   \n",
       "4  Got phone in only three days in tier 3 town ci...         189        26   \n",
       "5  Amazing Piece of ART! Samsung really never hes...         626       106   \n",
       "6  Great phone. Feel is great. sure value for money.          59         6   \n",
       "7  The Samsung Galaxy S10 plus is an phenomenal s...          23         1   \n",
       "\n",
       "   upvote  \n",
       "0     644  \n",
       "1     292  \n",
       "2      89  \n",
       "3     353  \n",
       "4     163  \n",
       "5     520  \n",
       "6      53  \n",
       "7      22  "
      ]
     },
     "execution_count": 89,
     "metadata": {},
     "output_type": "execute_result"
    }
   ],
   "source": [
    "reviewsDF.head(8)"
   ]
  },
  {
   "cell_type": "code",
   "execution_count": 90,
   "metadata": {},
   "outputs": [
    {
     "data": {
      "text/html": [
       "<div>\n",
       "<style scoped>\n",
       "    .dataframe tbody tr th:only-of-type {\n",
       "        vertical-align: middle;\n",
       "    }\n",
       "\n",
       "    .dataframe tbody tr th {\n",
       "        vertical-align: top;\n",
       "    }\n",
       "\n",
       "    .dataframe thead th {\n",
       "        text-align: right;\n",
       "    }\n",
       "</style>\n",
       "<table border=\"1\" class=\"dataframe\">\n",
       "  <thead>\n",
       "    <tr style=\"text-align: right;\">\n",
       "      <th></th>\n",
       "      <th>author</th>\n",
       "      <th>rating</th>\n",
       "      <th>title</th>\n",
       "      <th>text</th>\n",
       "      <th>totalCount</th>\n",
       "      <th>downvote</th>\n",
       "      <th>upvote</th>\n",
       "      <th>merged</th>\n",
       "    </tr>\n",
       "  </thead>\n",
       "  <tbody>\n",
       "    <tr>\n",
       "      <th>0</th>\n",
       "      <td>Pravesh  Shilotri</td>\n",
       "      <td>5</td>\n",
       "      <td>Worth every penny</td>\n",
       "      <td>Awesome Mobile.!</td>\n",
       "      <td>721</td>\n",
       "      <td>77</td>\n",
       "      <td>644</td>\n",
       "      <td>Worth every penny. Awesome Mobile.!</td>\n",
       "    </tr>\n",
       "    <tr>\n",
       "      <th>1</th>\n",
       "      <td>Mrityunjay Pandey</td>\n",
       "      <td>5</td>\n",
       "      <td>Just wow!</td>\n",
       "      <td>Awesome camera.</td>\n",
       "      <td>330</td>\n",
       "      <td>38</td>\n",
       "      <td>292</td>\n",
       "      <td>Just wow!. Awesome camera.</td>\n",
       "    </tr>\n",
       "    <tr>\n",
       "      <th>2</th>\n",
       "      <td>Ravi Raj</td>\n",
       "      <td>4</td>\n",
       "      <td>Really Nice</td>\n",
       "      <td>Awesome Purchase &amp; Fast DELIVERY as well.The o...</td>\n",
       "      <td>99</td>\n",
       "      <td>10</td>\n",
       "      <td>89</td>\n",
       "      <td>Really Nice. Awesome Purchase &amp; Fast DELIVERY ...</td>\n",
       "    </tr>\n",
       "    <tr>\n",
       "      <th>3</th>\n",
       "      <td>Kartik Pareek</td>\n",
       "      <td>5</td>\n",
       "      <td>Fabulous!</td>\n",
       "      <td>As expected, Samsung decided to bring in its b...</td>\n",
       "      <td>412</td>\n",
       "      <td>59</td>\n",
       "      <td>353</td>\n",
       "      <td>Fabulous!. As expected, Samsung decided to bri...</td>\n",
       "    </tr>\n",
       "    <tr>\n",
       "      <th>4</th>\n",
       "      <td>Mehul  Badiyani</td>\n",
       "      <td>5</td>\n",
       "      <td>Great product</td>\n",
       "      <td>Got phone in only three days in tier 3 town ci...</td>\n",
       "      <td>189</td>\n",
       "      <td>26</td>\n",
       "      <td>163</td>\n",
       "      <td>Great product. Got phone in only three days in...</td>\n",
       "    </tr>\n",
       "  </tbody>\n",
       "</table>\n",
       "</div>"
      ],
      "text/plain": [
       "              author  rating              title  \\\n",
       "0  Pravesh  Shilotri       5  Worth every penny   \n",
       "1  Mrityunjay Pandey       5          Just wow!   \n",
       "2           Ravi Raj       4        Really Nice   \n",
       "3      Kartik Pareek       5          Fabulous!   \n",
       "4   Mehul  Badiyani        5      Great product   \n",
       "\n",
       "                                                text  totalCount  downvote  \\\n",
       "0                                   Awesome Mobile.!         721        77   \n",
       "1                                    Awesome camera.         330        38   \n",
       "2  Awesome Purchase & Fast DELIVERY as well.The o...          99        10   \n",
       "3  As expected, Samsung decided to bring in its b...         412        59   \n",
       "4  Got phone in only three days in tier 3 town ci...         189        26   \n",
       "\n",
       "   upvote                                             merged  \n",
       "0     644                Worth every penny. Awesome Mobile.!  \n",
       "1     292                         Just wow!. Awesome camera.  \n",
       "2      89  Really Nice. Awesome Purchase & Fast DELIVERY ...  \n",
       "3     353  Fabulous!. As expected, Samsung decided to bri...  \n",
       "4     163  Great product. Got phone in only three days in...  "
      ]
     },
     "execution_count": 90,
     "metadata": {},
     "output_type": "execute_result"
    }
   ],
   "source": [
    "reviewsDF['merged'] = reviewsDF['title'] + '. ' + reviewsDF['text']\n",
    "reviewsDF.head(5)"
   ]
  },
  {
   "cell_type": "code",
   "execution_count": 91,
   "metadata": {},
   "outputs": [
    {
     "data": {
      "text/html": [
       "<div>\n",
       "<style scoped>\n",
       "    .dataframe tbody tr th:only-of-type {\n",
       "        vertical-align: middle;\n",
       "    }\n",
       "\n",
       "    .dataframe tbody tr th {\n",
       "        vertical-align: top;\n",
       "    }\n",
       "\n",
       "    .dataframe thead th {\n",
       "        text-align: right;\n",
       "    }\n",
       "</style>\n",
       "<table border=\"1\" class=\"dataframe\">\n",
       "  <thead>\n",
       "    <tr style=\"text-align: right;\">\n",
       "      <th></th>\n",
       "      <th>author</th>\n",
       "      <th>rating</th>\n",
       "      <th>totalCount</th>\n",
       "      <th>downvote</th>\n",
       "      <th>upvote</th>\n",
       "      <th>merged</th>\n",
       "    </tr>\n",
       "  </thead>\n",
       "  <tbody>\n",
       "    <tr>\n",
       "      <th>0</th>\n",
       "      <td>Pravesh  Shilotri</td>\n",
       "      <td>5</td>\n",
       "      <td>721</td>\n",
       "      <td>77</td>\n",
       "      <td>644</td>\n",
       "      <td>Worth every penny. Awesome Mobile.!</td>\n",
       "    </tr>\n",
       "    <tr>\n",
       "      <th>1</th>\n",
       "      <td>Mrityunjay Pandey</td>\n",
       "      <td>5</td>\n",
       "      <td>330</td>\n",
       "      <td>38</td>\n",
       "      <td>292</td>\n",
       "      <td>Just wow!. Awesome camera.</td>\n",
       "    </tr>\n",
       "    <tr>\n",
       "      <th>2</th>\n",
       "      <td>Ravi Raj</td>\n",
       "      <td>4</td>\n",
       "      <td>99</td>\n",
       "      <td>10</td>\n",
       "      <td>89</td>\n",
       "      <td>Really Nice. Awesome Purchase &amp; Fast DELIVERY ...</td>\n",
       "    </tr>\n",
       "    <tr>\n",
       "      <th>3</th>\n",
       "      <td>Kartik Pareek</td>\n",
       "      <td>5</td>\n",
       "      <td>412</td>\n",
       "      <td>59</td>\n",
       "      <td>353</td>\n",
       "      <td>Fabulous!. As expected, Samsung decided to bri...</td>\n",
       "    </tr>\n",
       "    <tr>\n",
       "      <th>4</th>\n",
       "      <td>Mehul  Badiyani</td>\n",
       "      <td>5</td>\n",
       "      <td>189</td>\n",
       "      <td>26</td>\n",
       "      <td>163</td>\n",
       "      <td>Great product. Got phone in only three days in...</td>\n",
       "    </tr>\n",
       "  </tbody>\n",
       "</table>\n",
       "</div>"
      ],
      "text/plain": [
       "              author  rating  totalCount  downvote  upvote  \\\n",
       "0  Pravesh  Shilotri       5         721        77     644   \n",
       "1  Mrityunjay Pandey       5         330        38     292   \n",
       "2           Ravi Raj       4          99        10      89   \n",
       "3      Kartik Pareek       5         412        59     353   \n",
       "4   Mehul  Badiyani        5         189        26     163   \n",
       "\n",
       "                                              merged  \n",
       "0                Worth every penny. Awesome Mobile.!  \n",
       "1                         Just wow!. Awesome camera.  \n",
       "2  Really Nice. Awesome Purchase & Fast DELIVERY ...  \n",
       "3  Fabulous!. As expected, Samsung decided to bri...  \n",
       "4  Great product. Got phone in only three days in...  "
      ]
     },
     "execution_count": 91,
     "metadata": {},
     "output_type": "execute_result"
    }
   ],
   "source": [
    "reviewsDF.drop(['title', 'text'], axis=1, inplace=True)\n",
    "reviewsDF.head(5)"
   ]
  },
  {
   "cell_type": "code",
   "execution_count": 92,
   "metadata": {},
   "outputs": [
    {
     "name": "stdout",
     "output_type": "stream",
     "text": [
      "\n",
      "\n",
      "0 Worth every penny. Awesome Mobile.!\n",
      "('worth', 'JJ')\n",
      "('every', 'DT')\n",
      "('penny', 'NN')\n",
      "('.', '.')\n",
      "('awesome', 'JJ')\n",
      "('mobile', 'NN')\n",
      "('.', '.')\n",
      "('!', '.')\n",
      "\n",
      "\n",
      "1 Just wow!. Awesome camera.\n",
      "('just', 'RB')\n",
      "('wow', 'NN')\n",
      "('!', '.')\n",
      "('.', '.')\n",
      "('awesome', 'JJ')\n",
      "('camera', 'NN')\n",
      "('.', '.')\n",
      "\n",
      "\n",
      "2 Really Nice. Awesome Purchase & Fast DELIVERY as well.The only con I Found is that Battery could have been Much better as per the Price Segment.\n",
      "('really', 'RB')\n",
      "('nice', 'JJ')\n",
      "('.', '.')\n",
      "('awesome', 'JJ')\n",
      "('purchase', 'NN')\n",
      "('&', 'CC')\n",
      "('fast', 'RB')\n",
      "('delivery', 'NN')\n",
      "('as', 'IN')\n",
      "('well.the', 'NN')\n",
      "('only', 'RB')\n",
      "('con', 'NN')\n",
      "('i', 'NN')\n",
      "('found', 'VBD')\n",
      "('is', 'VBZ')\n",
      "('that', 'IN')\n",
      "('battery', 'NN')\n",
      "('could', 'MD')\n",
      "('have', 'VB')\n",
      "('been', 'VBN')\n",
      "('much', 'RB')\n",
      "('better', 'RBR')\n",
      "('as', 'IN')\n",
      "('per', 'IN')\n",
      "('the', 'DT')\n",
      "('price', 'NN')\n",
      "('segment', 'NN')\n",
      "('.', '.')\n",
      "\n",
      "\n",
      "3 Fabulous!. As expected, Samsung decided to bring in its big gun for the tenth anniversary.After only a marginal increase over S8 in the S9.starting with S10 it improves in all the aspects including display, camera, wireless reverse charging, one ui as well as best in class processor and increased ram. All of these features make this phone a beast with its pinhole camera making it first in its league to have these features. Overall a 10/10 product and something that will bring Samsung back to the top.\n",
      "('fabulous', 'JJ')\n",
      "('!', '.')\n",
      "('.', '.')\n",
      "('as', 'IN')\n",
      "('expected', 'VBN')\n",
      "(',', ',')\n",
      "('samsung', 'NN')\n",
      "('decided', 'VBD')\n",
      "('to', 'TO')\n",
      "('bring', 'VB')\n",
      "('in', 'IN')\n",
      "('its', 'PRP$')\n",
      "('big', 'JJ')\n",
      "('gun', 'NN')\n",
      "('for', 'IN')\n",
      "('the', 'DT')\n",
      "('tenth', 'NN')\n",
      "('anniversary.after', 'NN')\n",
      "('only', 'RB')\n",
      "('a', 'DT')\n",
      "('marginal', 'JJ')\n",
      "('increase', 'NN')\n",
      "('over', 'IN')\n",
      "('s8', 'NN')\n",
      "('in', 'IN')\n",
      "('the', 'DT')\n",
      "('s9.starting', 'NN')\n",
      "('with', 'IN')\n",
      "('s10', 'NN')\n",
      "('it', 'PRP')\n",
      "('improves', 'VBZ')\n",
      "('in', 'IN')\n",
      "('all', 'PDT')\n",
      "('the', 'DT')\n",
      "('aspects', 'NNS')\n",
      "('including', 'VBG')\n",
      "('display', 'NN')\n",
      "(',', ',')\n",
      "('camera', 'NN')\n",
      "(',', ',')\n",
      "('wireless', 'JJ')\n",
      "('reverse', 'NN')\n",
      "('charging', 'NN')\n",
      "(',', ',')\n",
      "('one', 'CD')\n",
      "('ui', 'NN')\n",
      "('as', 'RB')\n",
      "('well', 'RB')\n",
      "('as', 'IN')\n",
      "('best', 'JJS')\n",
      "('in', 'IN')\n",
      "('class', 'NN')\n",
      "('processor', 'NN')\n",
      "('and', 'CC')\n",
      "('increased', 'VBD')\n",
      "('ram', 'NN')\n",
      "('.', '.')\n",
      "('all', 'DT')\n",
      "('of', 'IN')\n",
      "('these', 'DT')\n",
      "('features', 'NNS')\n",
      "('make', 'VBP')\n",
      "('this', 'DT')\n",
      "('phone', 'NN')\n",
      "('a', 'DT')\n",
      "('beast', 'NN')\n",
      "('with', 'IN')\n",
      "('its', 'PRP$')\n",
      "('pinhole', 'JJ')\n",
      "('camera', 'NN')\n",
      "('making', 'VBG')\n",
      "('it', 'PRP')\n",
      "('first', 'RB')\n",
      "('in', 'IN')\n",
      "('its', 'PRP$')\n",
      "('league', 'NN')\n",
      "('to', 'TO')\n",
      "('have', 'VB')\n",
      "('these', 'DT')\n",
      "('features', 'NNS')\n",
      "('.', '.')\n",
      "('overall', 'VB')\n",
      "('a', 'DT')\n",
      "('10/10', 'CD')\n",
      "('product', 'NN')\n",
      "('and', 'CC')\n",
      "('something', 'NN')\n",
      "('that', 'WDT')\n",
      "('will', 'MD')\n",
      "('bring', 'VB')\n",
      "('samsung', 'NN')\n",
      "('back', 'RB')\n",
      "('to', 'TO')\n",
      "('the', 'DT')\n",
      "('top', 'NN')\n",
      "('.', '.')\n",
      "\n",
      "\n",
      "4 Great product. Got phone in only three days in tier 3 town city.Best packaging from flipkart.my review below 1)Camera: Zabardast !!! camera photos  awsome. best camera. after  software  update  front camera display  through flash enabled .I like wide angle and telephoto camera.2)Display: Super amoled  display  so nice even in sun light we see display  content. Watching  video feel like TV experience. I give rating 10/10 3)Sound: Sound in this phone super loud and stereo  speakers. In this dolbe features. So...\n",
      "('great', 'JJ')\n",
      "('product', 'NN')\n",
      "('.', '.')\n",
      "('got', 'VBD')\n",
      "('phone', 'NN')\n",
      "('in', 'IN')\n",
      "('only', 'RB')\n",
      "('three', 'CD')\n",
      "('days', 'NNS')\n",
      "('in', 'IN')\n",
      "('tier', 'JJ')\n",
      "('3', 'CD')\n",
      "('town', 'NN')\n",
      "('city.best', 'NN')\n",
      "('packaging', 'NN')\n",
      "('from', 'IN')\n",
      "('flipkart.my', 'JJ')\n",
      "('review', 'NN')\n",
      "('below', 'IN')\n",
      "('1', 'CD')\n",
      "(')', ')')\n",
      "('camera', 'NN')\n",
      "(':', ':')\n",
      "('zabardast', 'NN')\n",
      "('!', '.')\n",
      "('!', '.')\n",
      "('!', '.')\n",
      "('camera', 'NN')\n",
      "('photos', 'VBZ')\n",
      "('awsome', 'RB')\n",
      "('.', '.')\n",
      "('best', 'JJS')\n",
      "('camera', 'NN')\n",
      "('.', '.')\n",
      "('after', 'IN')\n",
      "('software', 'NN')\n",
      "('update', 'JJ')\n",
      "('front', 'NN')\n",
      "('camera', 'NN')\n",
      "('display', 'NN')\n",
      "('through', 'IN')\n",
      "('flash', 'NN')\n",
      "('enabled', 'VBD')\n",
      "('.i', 'NNS')\n",
      "('like', 'IN')\n",
      "('wide', 'JJ')\n",
      "('angle', 'NN')\n",
      "('and', 'CC')\n",
      "('telephoto', 'NN')\n",
      "('camera.2', 'NN')\n",
      "(')', ')')\n",
      "('display', 'NN')\n",
      "(':', ':')\n",
      "('super', 'NN')\n",
      "('amoled', 'VBD')\n",
      "('display', 'NN')\n",
      "('so', 'RB')\n",
      "('nice', 'JJ')\n",
      "('even', 'RB')\n",
      "('in', 'IN')\n",
      "('sun', 'JJ')\n",
      "('light', 'NN')\n",
      "('we', 'PRP')\n",
      "('see', 'VBP')\n",
      "('display', 'JJ')\n",
      "('content', 'NN')\n",
      "('.', '.')\n",
      "('watching', 'VBG')\n",
      "('video', 'JJ')\n",
      "('feel', 'NN')\n",
      "('like', 'IN')\n",
      "('tv', 'NN')\n",
      "('experience', 'NN')\n",
      "('.', '.')\n",
      "('i', 'JJ')\n",
      "('give', 'VBP')\n",
      "('rating', 'NN')\n",
      "('10/10', 'CD')\n",
      "('3', 'CD')\n",
      "(')', ')')\n",
      "('sound', 'NN')\n",
      "(':', ':')\n",
      "('sound', 'NN')\n",
      "('in', 'IN')\n",
      "('this', 'DT')\n",
      "('phone', 'NN')\n",
      "('super', 'JJ')\n",
      "('loud', 'NN')\n",
      "('and', 'CC')\n",
      "('stereo', 'NN')\n",
      "('speakers', 'NNS')\n",
      "('.', '.')\n",
      "('in', 'IN')\n",
      "('this', 'DT')\n",
      "('dolbe', 'NN')\n",
      "('features', 'VBZ')\n",
      "('.', '.')\n",
      "('so', 'RB')\n",
      "('...', ':')\n"
     ]
    }
   ],
   "source": [
    "for index,row in reviewsDF.head(5).iterrows():\n",
    "    print(\"\\n\")\n",
    "    print(index, row['merged'])\n",
    "    \n",
    "    tockenized = nltk.word_tokenize(row['merged'])\n",
    "    tockenized = [w.lower() for w in tockenized]\n",
    "    postag = nltk.pos_tag(tockenized)\n",
    "    #print(tockenized)\n",
    "    \n",
    "    entities = nltk.chunk.ne_chunk(postag)\n",
    "    #print(entities)\n",
    "    \n",
    "    #for subtree in entities.Subtree:\n",
    "    for leaf in entities.leaves():\n",
    "        print(leaf)"
   ]
  },
  {
   "cell_type": "code",
   "execution_count": 93,
   "metadata": {},
   "outputs": [
    {
     "name": "stdout",
     "output_type": "stream",
     "text": [
      "0 ['worth', 'awesome']\n",
      "1 ['awesome']\n",
      "2 ['nice', 'awesome']\n",
      "3 ['fabulous', 'big', 'marginal', 'wireless', 'pinhole']\n",
      "4 ['great', 'tier', 'flipkart.my', 'update', 'wide', 'nice', 'sun', 'display', 'video', 'i', 'super']\n",
      "5 ['fabulous', 'little', 'worried', 'large', 'amazing']\n",
      "6 ['wonderful', 'great', 'great', 'sure']\n",
      "7 ['phenomenal', 'much', 'satisfied', 'i', 'curved', 'screen', 'good', 'delicate', 'screen', 'poor', 'i', 'other']\n",
      "8 ['innovative', 'full', 'interesting']\n",
      "9 ['perfect', 'excellent', 'big..fits', 'led', 'd']\n",
      "10 ['terrific']\n",
      "11 ['great', 'able']\n",
      "12 ['nice', 'great', 'decent', 'full']\n",
      "13 ['worth']\n",
      "14 ['beautiful', 'awesome', 'few', 'detailed', 'update']\n",
      "15 ['perfect']\n",
      "16 ['awesome', 'other', 'sound', 'nice']\n",
      "17 ['fabulous', 'nice']\n",
      "18 ['u', 'much', 'u']\n",
      "19 ['preorder', 'previous', 'fantastic', 'punch', 'great', '2-3', 'used', 'first']\n"
     ]
    }
   ],
   "source": [
    "#let us print only JJ\n",
    "for index,row in reviewsDF.head(20).iterrows():\n",
    "    tockenized = nltk.word_tokenize(row['merged'])\n",
    "    tockenized = [w.lower() for w in tockenized]\n",
    "    postag = nltk.pos_tag(tockenized)\n",
    "    #print(tockenized)\n",
    "    \n",
    "    entities = nltk.chunk.ne_chunk(postag)\n",
    "    #print(entities)\n",
    "    \n",
    "    phrases = []\n",
    "    #for subtree in entities.Subtree:\n",
    "    for leaf in entities.leaves():\n",
    "        if leaf[1] == \"JJ\":\n",
    "            phrases.append(leaf[0])\n",
    "    print(index, phrases)"
   ]
  },
  {
   "cell_type": "code",
   "execution_count": 94,
   "metadata": {},
   "outputs": [
    {
     "name": "stdout",
     "output_type": "stream",
     "text": [
      "0 ['penny', 'mobile']\n",
      "1 ['wow', 'camera']\n",
      "2 ['purchase', 'delivery', 'well.the', 'con', 'i', 'battery', 'price', 'segment']\n",
      "3 ['samsung', 'gun', 'tenth', 'anniversary.after', 'increase', 's8', 's9.starting', 's10', 'display', 'camera', 'reverse', 'charging', 'ui', 'class', 'processor', 'ram', 'phone', 'beast', 'camera', 'league', 'product', 'something', 'samsung', 'top']\n",
      "4 ['product', 'phone', 'town', 'city.best', 'packaging', 'review', 'camera', 'zabardast', 'camera', 'camera', 'software', 'front', 'camera', 'display', 'flash', 'angle', 'telephoto', 'camera.2', 'display', 'super', 'display', 'light', 'content', 'feel', 'tv', 'experience', 'rating', 'sound', 'sound', 'phone', 'loud', 'stereo', 'dolbe']\n",
      "5 ['piece', 'art', 'samsung', 'hesitate', 's10+', 'i', 'package', 'feeling', 'tech', 'form', 'factor', 'samsung', 'flagship', 'samsung', 'company', 'atleast']\n",
      "6 ['phone', 'feel', 'value', 'money']\n",
      "7 ['samsung', 'galaxy', 's10', 'smartphone', 'day', 'day', 'sit', 'wallpaper', 'beauty', 'issue', 'look', 'case', 'resolution', 'battery', 'outside', 'ge']\n",
      "8 ['market', 'product', 'samsung', 'review', 'while', 'device..']\n",
      "9 ['product', 'product..light', 'weight..slim', 'n', 'hand..good', 'part', 'indicator', 'frnt', 'camera..', 'samsung', '👍👍✔']\n",
      "10 ['purchase']\n",
      "11 ['wonderful', 'phone', 'samsung', 's9plus', 'problem', 'i', 'samsung', 'buds..']\n",
      "12 ['camera', 'topnotch', 'performancebattery', 'day', '/medium', 'use', 'ui', 'superb']\n",
      "13 ['penny', 'samsung']\n",
      "14 ['super', 'phone', 'phone', 'feature', 'yesterday', 'i', 'phone', 'market', 'now.i']\n",
      "15 ['galaxy', 's10', 'everything']\n",
      "16 ['product', 'display', 'camera', 'battery', 'quality']\n",
      "17 ['phone', 'filipcart']\n",
      "18 ['terrific', 'phone', 'talk', 'samsung', 's10+', 'phone', 'samsung', 'i', 's8+', 'difference', 'quality', 'phone']\n",
      "19 ['terrific', 'phone', 'feb', 'period', 'march', 'display', 'performance', 'generation', 'samsung', 'innovation', 'hole', 'display', 'phone', 'notch', 'period', 'samsung', 'phone', 'i']\n"
     ]
    }
   ],
   "source": [
    "#let us print only NN\n",
    "for index,row in reviewsDF.head(20).iterrows():\n",
    "    tockenized = nltk.word_tokenize(row['merged'])\n",
    "    tockenized = [w.lower() for w in tockenized]\n",
    "    postag = nltk.pos_tag(tockenized)\n",
    "    #print(tockenized)\n",
    "    \n",
    "    entities = nltk.chunk.ne_chunk(postag)\n",
    "    #print(entities)\n",
    "    \n",
    "    phrases = []\n",
    "    #for subtree in entities.Subtree:\n",
    "    for leaf in entities.leaves():\n",
    "        if leaf[1] == \"NN\":\n",
    "            phrases.append(leaf[0])\n",
    "    print(index, phrases)"
   ]
  },
  {
   "cell_type": "code",
   "execution_count": 95,
   "metadata": {},
   "outputs": [
    {
     "name": "stdout",
     "output_type": "stream",
     "text": [
      "[]\n",
      "\n",
      "\n",
      "['awesome camera']\n",
      "\n",
      "\n",
      "['awesome purchase', 'fast delivery', 'con i', 'price segment']\n",
      "\n",
      "\n",
      "['big gun', 'tenth anniversary.after', 'marginal increase', 'wireless reverse', 'class processor', 'pinhole camera making']\n",
      "\n",
      "\n",
      "['great product', 'town city.best', 'flipkart.my review', 'camera photos awsome', 'software update front camera display', 'wide angle', 'telephoto camera.2', 'display content', 'tv experience', 'stereo speakers']\n",
      "\n",
      "\n",
      "['amazing piece', 'form factor', 'flagship samsung', \"wo n't regret\", \"wo n't\", 'company atleast', 'w ...']\n",
      "\n",
      "\n",
      "['great phone', 'sure value']\n",
      "\n",
      "\n",
      "['samsung galaxy s10', 'phenomenal smartphone', 'day tasks', 'issue i', 'screen look good', '1440p screen resolution', 'ge ...']\n",
      "\n",
      "\n",
      "['innovative product', 'full review']\n",
      "\n",
      "\n",
      "['perfect product', 'excellent product..light weight..slim n', 'fone..best part', 'd frnt camera..', 'packed..u knw']\n",
      "\n",
      "\n"
     ]
    }
   ],
   "source": [
    "# let us do the same with text blob and compare results\n",
    "#let us print only NN - noun\n",
    "for index,row in reviewsDF.head(10).iterrows():\n",
    "    data = \" \".join([w.lower() for w in row['merged'].split(\" \")])\n",
    "    #print(index, data)\n",
    "    blob = TextBlob(data)\n",
    "    #print(blob.tags)\n",
    "    print(blob.noun_phrases)\n",
    "    print(\"\\n\")"
   ]
  },
  {
   "cell_type": "code",
   "execution_count": 96,
   "metadata": {},
   "outputs": [
    {
     "name": "stdout",
     "output_type": "stream",
     "text": [
      "[('worth', 'JJ'), ('every', 'DT'), ('penny', 'NN'), ('awesome', 'JJ'), ('mobile', 'NN')]\n",
      "[]\n",
      "\n",
      "\n",
      "[('just', 'RB'), ('wow', 'NN'), ('awesome', 'JJ'), ('camera', 'NN')]\n",
      "['awesome camera']\n",
      "\n",
      "\n",
      "[('really', 'RB'), ('nice', 'JJ'), ('awesome', 'JJ'), ('purchase', 'NN'), ('&', 'CC'), ('fast', 'RB'), ('delivery', 'NN'), ('as', 'IN'), ('well.the', 'NN'), ('only', 'RB'), ('con', 'NN'), ('i', 'NN'), ('found', 'VBD'), ('is', 'VBZ'), ('that', 'IN'), ('battery', 'NN'), ('could', 'MD'), ('have', 'VB'), ('been', 'VBN'), ('much', 'RB'), ('better', 'RBR'), ('as', 'IN'), ('per', 'IN'), ('the', 'DT'), ('price', 'NN'), ('segment', 'NN')]\n",
      "['awesome purchase', 'fast delivery', 'con i', 'price segment']\n",
      "\n",
      "\n",
      "[('fabulous', 'JJ'), ('as', 'IN'), ('expected', 'VBN'), ('samsung', 'NN'), ('decided', 'VBD'), ('to', 'TO'), ('bring', 'VB'), ('in', 'IN'), ('its', 'PRP$'), ('big', 'JJ'), ('gun', 'NN'), ('for', 'IN'), ('the', 'DT'), ('tenth', 'NN'), ('anniversary.after', 'NN'), ('only', 'RB'), ('a', 'DT'), ('marginal', 'JJ'), ('increase', 'NN'), ('over', 'IN'), ('s8', 'NN'), ('in', 'IN'), ('the', 'DT'), ('s9.starting', 'NN'), ('with', 'IN'), ('s10', 'NN'), ('it', 'PRP'), ('improves', 'VBZ'), ('in', 'IN'), ('all', 'PDT'), ('the', 'DT'), ('aspects', 'NNS'), ('including', 'VBG'), ('display', 'NN'), ('camera', 'NN'), ('wireless', 'JJ'), ('reverse', 'NN'), ('charging', 'NN'), ('one', 'CD'), ('ui', 'NN'), ('as', 'RB'), ('well', 'RB'), ('as', 'IN'), ('best', 'JJS'), ('in', 'IN'), ('class', 'NN'), ('processor', 'NN'), ('and', 'CC'), ('increased', 'VBD'), ('ram', 'NN'), ('all', 'DT'), ('of', 'IN'), ('these', 'DT'), ('features', 'NNS'), ('make', 'VBP'), ('this', 'DT'), ('phone', 'NN'), ('a', 'DT'), ('beast', 'NN'), ('with', 'IN'), ('its', 'PRP$'), ('pinhole', 'JJ'), ('camera', 'NN'), ('making', 'VBG'), ('it', 'PRP'), ('first', 'RB'), ('in', 'IN'), ('its', 'PRP$'), ('league', 'NN'), ('to', 'TO'), ('have', 'VB'), ('these', 'DT'), ('features', 'NNS'), ('overall', 'VB'), ('a', 'DT'), ('10/10', 'CD'), ('product', 'NN'), ('and', 'CC'), ('something', 'NN'), ('that', 'WDT'), ('will', 'MD'), ('bring', 'VB'), ('samsung', 'NN'), ('back', 'RB'), ('to', 'TO'), ('the', 'DT'), ('top', 'NN')]\n",
      "['big gun', 'tenth anniversary.after', 'marginal increase', 'wireless reverse', 'class processor', 'pinhole camera making']\n",
      "\n",
      "\n",
      "[('great', 'JJ'), ('product', 'NN'), ('got', 'VBD'), ('phone', 'NN'), ('in', 'IN'), ('only', 'RB'), ('three', 'CD'), ('days', 'NNS'), ('in', 'IN'), ('tier', 'JJ'), ('3', 'CD'), ('town', 'NN'), ('city.best', 'NN'), ('packaging', 'NN'), ('from', 'IN'), ('flipkart.my', 'JJ'), ('review', 'NN'), ('below', 'IN'), ('1', 'CD'), ('camera', 'NN'), ('zabardast', 'NN'), ('camera', 'NN'), ('photos', 'VBZ'), ('awsome', 'RB'), ('best', 'JJS'), ('camera', 'NN'), ('after', 'IN'), ('software', 'NN'), ('update', 'JJ'), ('front', 'NN'), ('camera', 'NN'), ('display', 'NN'), ('through', 'IN'), ('flash', 'NN'), ('enabled', 'VBD'), ('.i', 'NNS'), ('like', 'IN'), ('wide', 'JJ'), ('angle', 'NN'), ('and', 'CC'), ('telephoto', 'NN'), ('camera.2', 'NN'), ('display', 'NN'), ('super', 'NN'), ('amoled', 'VBD'), ('display', 'NN'), ('so', 'RB'), ('nice', 'JJ'), ('even', 'RB'), ('in', 'IN'), ('sun', 'JJ'), ('light', 'NN'), ('we', 'PRP'), ('see', 'VBP'), ('display', 'JJ'), ('content', 'NN'), ('watching', 'VBG'), ('video', 'NN'), ('feel', 'NN'), ('like', 'IN'), ('tv', 'NN'), ('experience', 'NN'), ('i', 'JJ'), ('give', 'VBP'), ('rating', 'NN'), ('10/10', 'CD'), ('3', 'CD'), ('sound', 'NN'), ('sound', 'NN'), ('in', 'IN'), ('this', 'DT'), ('phone', 'NN'), ('super', 'JJ'), ('loud', 'NN'), ('and', 'CC'), ('stereo', 'NN'), ('speakers', 'NNS'), ('in', 'IN'), ('this', 'DT'), ('dolbe', 'NN'), ('features', 'VBZ'), ('so', 'RB')]\n",
      "['great product', 'town city.best', 'flipkart.my review', 'camera photos awsome', 'software update front camera display', 'wide angle', 'telephoto camera.2', 'display content', 'tv experience', 'stereo speakers']\n",
      "\n",
      "\n"
     ]
    }
   ],
   "source": [
    "for index,row in reviewsDF.head(5).iterrows():\n",
    "    data = \" \".join([w.lower() for w in row['merged'].split(\" \")])\n",
    "    #print(index, data)\n",
    "    blob = TextBlob(data)\n",
    "    print(blob.tags)\n",
    "    print(blob.noun_phrases)\n",
    "    print(\"\\n\")"
   ]
  },
  {
   "cell_type": "markdown",
   "metadata": {},
   "source": [
    "### so as per above we can see that it is possible to get the reviews according to features. Let us try to do that.\n",
    "### we will follow below steps\n",
    "    > break down text in sentences.\n",
    "    > break down sentenses into words.\n",
    "    > build tockens with words which will undergo spelling correction and then lemetization.\n",
    "    > then pos tag to each word."
   ]
  },
  {
   "cell_type": "code",
   "execution_count": 97,
   "metadata": {},
   "outputs": [
    {
     "name": "stdout",
     "output_type": "stream",
     "text": [
      "[('worth', 'JJ'), ('every', 'DT'), ('penny', 'NN'), ('awesome', 'VBP'), ('mobile', 'NN')]\n",
      "\n",
      "\n",
      "[('just', 'RB'), ('wow', 'WRB'), ('awesome', 'JJ'), ('camera', 'NN')]\n",
      "\n",
      "\n",
      "[('really', 'RB'), ('nice', 'JJ'), ('awesome', 'JJ'), ('purchase', 'NN'), ('fast', 'RB'), ('delivery', 'NN'), ('a', 'DT'), ('well', 'RB'), ('the', 'DT'), ('only', 'JJ'), ('con', 'NN'), ('i', 'NN'), ('found', 'VBD'), ('is', 'VBZ'), ('that', 'IN'), ('battery', 'NN'), ('could', 'MD'), ('have', 'VB'), ('been', 'VBN'), ('much', 'RB'), ('better', 'RBR'), ('a', 'DT'), ('per', 'IN'), ('the', 'DT'), ('price', 'NN'), ('segment', 'NN')]\n",
      "\n",
      "\n",
      "[('fabulous', 'JJ'), ('a', 'DT'), ('expected', 'JJ'), ('samsung', 'NN'), ('decided', 'VBD'), ('to', 'TO'), ('bring', 'VB'), ('in', 'IN'), ('it', 'PRP'), ('big', 'JJ'), ('gun', 'NN'), ('for', 'IN'), ('the', 'DT'), ('tenth', 'NN'), ('anniversary', 'NN'), ('after', 'IN'), ('only', 'RB'), ('a', 'DT'), ('marginal', 'JJ'), ('increase', 'NN'), ('over', 'IN'), ('s8', 'NN'), ('in', 'IN'), ('the', 'DT'), ('s9', 'NN'), ('starting', 'VBG'), ('with', 'IN'), ('s10', 'NN'), ('it', 'PRP'), ('improves', 'VBZ'), ('in', 'IN'), ('all', 'PDT'), ('the', 'DT'), ('aspect', 'JJ'), ('including', 'VBG'), ('display', 'NN'), ('camera', 'NN'), ('wireless', 'NN'), ('reverse', 'NN'), ('charging', 'VBG'), ('one', 'CD'), ('ui', 'NN'), ('a', 'DT'), ('well', 'RB'), ('a', 'DT'), ('best', 'JJS'), ('in', 'IN'), ('class', 'NN'), ('processor', 'NN'), ('and', 'CC'), ('increased', 'VBD'), ('ram', 'VB'), ('all', 'DT'), ('of', 'IN'), ('these', 'DT'), ('feature', 'JJ'), ('make', 'VBP'), ('this', 'DT'), ('phone', 'NN'), ('a', 'DT'), ('beast', 'NN'), ('with', 'IN'), ('it', 'PRP'), ('pinhole', 'JJ'), ('camera', 'NN'), ('making', 'VBG'), ('it', 'PRP'), ('first', 'RB'), ('in', 'IN'), ('it', 'PRP'), ('league', 'NN'), ('to', 'TO'), ('have', 'VB'), ('these', 'DT'), ('feature', 'NN'), ('overall', 'VBD'), ('a', 'DT'), ('10/10', 'CD'), ('product', 'NN'), ('and', 'CC'), ('something', 'NN'), ('that', 'WDT'), ('will', 'MD'), ('bring', 'VB'), ('samsung', 'NN'), ('back', 'RB'), ('to', 'TO'), ('the', 'DT'), ('top', 'NN')]\n",
      "\n",
      "\n",
      "[('great', 'JJ'), ('product', 'NN'), ('got', 'VBD'), ('phone', 'NN'), ('in', 'IN'), ('only', 'JJ'), ('three', 'CD'), ('day', 'NN'), ('in', 'IN'), ('tier', 'JJR'), ('3', 'CD'), ('town', 'NN'), ('city', 'NN'), ('best', 'JJS'), ('packaging', 'NN'), ('from', 'IN'), ('flipkart', 'JJ'), ('my', 'PRP$'), ('review', 'NN'), ('below', 'IN'), ('1', 'CD'), ('camera', 'NN'), ('zabardast', 'NN'), ('camera', 'NN'), ('photo', 'NN'), ('awsome', 'NN'), ('best', 'JJS'), ('camera', 'NN'), ('after', 'IN'), ('software', 'NN'), ('update', 'JJ'), ('front', 'NN'), ('camera', 'NN'), ('display', 'NN'), ('through', 'IN'), ('flash', 'NN'), ('enabled', 'VBD'), ('i', 'NNS'), ('like', 'IN'), ('wide', 'JJ'), ('angle', 'NN'), ('and', 'CC'), ('telephoto', 'NN'), ('camera', 'NN'), ('2', 'CD'), ('display', 'NN'), ('super', 'NN'), ('amoled', 'VBD'), ('display', 'NN'), ('so', 'RB'), ('nice', 'JJ'), ('even', 'RB'), ('in', 'IN'), ('sun', 'JJ'), ('light', 'NN'), ('we', 'PRP'), ('see', 'VBP'), ('display', 'JJ'), ('content', 'NN'), ('watching', 'VBG'), ('video', 'JJ'), ('feel', 'NN'), ('like', 'IN'), ('tv', 'NN'), ('experience', 'NN'), ('i', 'NN'), ('give', 'VBP'), ('rating', 'NN'), ('10/10', 'CD'), ('3', 'CD'), ('sound', 'NN'), ('sound', 'NN'), ('in', 'IN'), ('this', 'DT'), ('phone', 'NN'), ('super', 'JJ'), ('loud', 'NN'), ('and', 'CC'), ('stereo', 'NN'), ('speaker', 'NN'), ('in', 'IN'), ('this', 'DT'), ('dolbe', 'JJ'), ('feature', 'NN'), ('so', 'RB')]\n",
      "\n",
      "\n",
      "[('fabulous', 'JJ'), ('amazing', 'VBG'), ('piece', 'NN'), ('of', 'IN'), ('art', 'NN'), ('samsung', 'NN'), ('really', 'RB'), ('never', 'RB'), ('hesitate', 'NN'), ('to', 'TO'), ('innovate', 'VB'), ('wa', 'JJ'), ('little', 'JJ'), ('worried', 'JJ'), ('while', 'IN'), ('buying', 'VBG'), ('the', 'DT'), ('s10', 'NN'), ('thought', 'VBD'), ('it', 'PRP'), ('would', 'MD'), ('be', 'VB'), ('large', 'JJ'), ('in', 'IN'), ('hand', 'NN'), ('a', 'DT'), ('it', 'PRP'), (\"'s\", 'VBZ'), ('6', 'CD'), ('4', 'CD'), ('but', 'CC'), ('when', 'WRB'), ('i', 'NN'), ('opened', 'VBD'), ('the', 'DT'), ('package', 'NN'), ('and', 'CC'), ('hold', 'VB'), ('it', 'PRP'), ('in', 'IN'), ('my', 'PRP$'), ('hand', 'NN'), ('it', 'PRP'), ('wa', 'VBZ'), ('a', 'DT'), ('feeling', 'NN'), ('that', 'IN'), ('you', 'PRP'), ('have', 'VBP'), ('the', 'DT'), ('best', 'JJS'), ('of', 'IN'), ('best', 'JJS'), ('tech', 'NN'), ('in', 'IN'), ('hand', 'NN'), ('it', 'PRP'), (\"'s\", 'VBZ'), ('amazing', 'JJ'), ('to', 'TO'), ('see', 'VB'), ('the', 'DT'), ('form', 'NN'), ('factor', 'NN'), ('that', 'IN'), ('samsung', 'NN'), ('came', 'VBD'), ('up', 'RP'), ('with', 'IN'), ('it', 'PRP'), (\"'s\", 'VBZ'), ('one', 'CD'), ('of', 'IN'), ('best', 'JJS'), ('flagship', 'NN'), ('samsung', 'NN'), ('ever', 'RB'), ('built', 'VBD'), ('go', 'VB'), ('for', 'IN'), ('it', 'PRP'), ('believe', 'VBP'), ('me', 'PRP'), ('you', 'PRP'), ('wo', 'MD'), (\"n't\", 'RB'), ('regret', 'VB'), ('and', 'CC'), ('there', 'EX'), ('wo', 'MD'), (\"n't\", 'RB'), ('be', 'VB'), ('any', 'DT'), ('company', 'NN'), ('atleast', 'NN'), ('in', 'IN'), ('2019', 'CD'), ('which', 'WDT'), ('would', 'MD'), ('be', 'VB'), ('coming', 'VBG'), ('w', 'JJ')]\n",
      "\n",
      "\n",
      "[('wonderful', 'JJ'), ('great', 'JJ'), ('phone', 'NN'), ('feel', 'NN'), ('is', 'VBZ'), ('great', 'JJ'), ('sure', 'JJ'), ('value', 'NN'), ('for', 'IN'), ('money', 'NN')]\n",
      "\n",
      "\n",
      "[('must', 'MD'), ('buy', 'VB'), ('the', 'DT'), ('samsung', 'NN'), ('galaxy', 'NN'), ('s10', 'NN'), ('plus', 'CC'), ('is', 'VBZ'), ('an', 'DT'), ('phenomenal', 'JJ'), ('smartphone', 'NN'), ('be', 'VB'), ('it', 'PRP'), ('camera', 'RB'), ('be', 'VB'), ('it', 'PRP'), ('gaming', 'VBG'), ('be', 'VB'), ('it', 'PRP'), ('day', 'NN'), ('to', 'TO'), ('day', 'NN'), ('task', 'NN'), ('i', 'NN'), ('have', 'VBP'), ('never', 'RB'), ('been', 'VBN'), ('so', 'RB'), ('much', 'JJ'), ('satisfied', 'JJ'), ('ever', 'RB'), ('before', 'IN'), ('sometimes', 'RB'), ('i', 'JJ'), ('just', 'RB'), ('sit', 'NN'), ('there', 'RB'), ('and', 'CC'), ('look', 'VB'), ('at', 'IN'), ('the', 'DT'), ('wallpaper', 'NN'), ('and', 'CC'), ('appreciate', 'VB'), ('the', 'DT'), ('the', 'DT'), ('beauty', 'NN'), ('of', 'IN'), ('it', 'PRP'), ('there', 'EX'), ('are', 'VBP'), ('two', 'CD'), ('issue', 'NN'), ('i', 'NNS'), ('have', 'VBP'), ('seen', 'VBN'), ('the', 'DT'), ('curved', 'JJ'), ('screen', 'JJ'), ('look', 'NN'), ('good', 'JJ'), ('but', 'CC'), ('it', 'PRP'), ('actually', 'RB'), ('very', 'RB'), ('delicate', 'JJ'), ('to', 'TO'), ('hold', 'VB'), ('without', 'IN'), ('case', 'NN'), ('and', 'CC'), ('if', 'IN'), ('you', 'PRP'), ('use', 'VBP'), ('the', 'DT'), ('1440p', 'CD'), ('screen', 'JJ'), ('resolution', 'NN'), ('the', 'DT'), ('battery', 'NN'), ('back', 'RB'), ('is', 'VBZ'), ('very', 'RB'), ('poor', 'JJ'), ('so', 'IN'), ('i', 'JJ'), ('keep', 'VBP'), ('it', 'PRP'), ('1080p', 'CD'), ('while', 'IN'), ('outside', 'IN'), ('other', 'JJ'), ('than', 'IN'), ('that', 'IN'), ('it', 'PRP'), (\"'s\", 'VBZ'), ('like', 'IN'), ('a', 'DT'), ('ge', 'NN')]\n",
      "\n",
      "\n"
     ]
    }
   ],
   "source": [
    "for index,row in reviewsDF.head(8).iterrows():\n",
    "    \n",
    "    raw = TextBlob(row['merged'])\n",
    "    raw = raw.lower()\n",
    "    raw = raw.replace(\".\",\". \")\n",
    "    #print(raw)\n",
    "    \n",
    "    #let us first correct spelling of each word.\n",
    "    #raw = raw.correct()\n",
    "    #print(raw)\n",
    "    \n",
    "    #let us do the lemmetization   \n",
    "    rawLemma = [w.lemmatize() for w in raw.words]\n",
    "    #print(rawLemma)\n",
    "    \n",
    "    posTagged = TextBlob(\" \".join([w for w in rawLemma])).tags #  [Word(w).tags for w in rawLemma]\n",
    "    print(posTagged)\n",
    "    print(\"\\n\")"
   ]
  },
  {
   "cell_type": "markdown",
   "metadata": {},
   "source": [
    "### as we can see above steps are working fine. Let us try to extract the jj and nn"
   ]
  },
  {
   "cell_type": "code",
   "execution_count": 98,
   "metadata": {},
   "outputs": [],
   "source": [
    "# let us try to group and extract phrases like \"awsome camera\", \"nice display\"\n",
    "def POScombo(n, firstPos, SecondPos):\n",
    "    for index,row in reviewsDF.head(n).iterrows():\n",
    "        raw = TextBlob(row['merged'])\n",
    "        raw = raw.lower()\n",
    "        raw = raw.replace(\".\",\". \")\n",
    "\n",
    "        #let us do the lemmetization   \n",
    "        rawLemma = [w.lemmatize() for w in raw.words]\n",
    "        #print(rawLemma)\n",
    "       \n",
    "        posTagged = TextBlob(\" \".join([w for w in rawLemma])).tags #  [Word(w).tags for w in rawLemma]\n",
    "        nousWithAdj = []\n",
    "        for i in range(len(posTagged)):\n",
    "            try:\n",
    "                if posTagged[i][1] == firstPos and posTagged[i+1][1] == SecondPos:\n",
    "                    nousWithAdj.append(posTagged[i][0]+' '+posTagged[i+1][0])\n",
    "            except:\n",
    "                pass\n",
    "        print(index, nousWithAdj)    \n",
    "    #return tagged"
   ]
  },
  {
   "cell_type": "code",
   "execution_count": 99,
   "metadata": {},
   "outputs": [
    {
     "name": "stdout",
     "output_type": "stream",
     "text": [
      "0 []\n",
      "1 ['awesome camera']\n",
      "2 ['awesome purchase', 'only con']\n",
      "3 ['expected samsung', 'big gun', 'marginal increase', 'pinhole camera']\n",
      "4 ['great product', 'update front', 'wide angle', 'sun light', 'display content', 'video feel', 'super loud', 'dolbe feature']\n",
      "5 []\n",
      "6 ['great phone', 'sure value']\n",
      "7 ['phenomenal smartphone', 'screen look', 'screen resolution']\n",
      "8 ['innovative product', 'full review']\n",
      "9 ['perfect product', 'excellent product', 'light weight', 'fit properly', 'frnt camera', 'u knw']\n",
      "10 ['terrific purchase']\n",
      "11 ['s9plus wa', 'only problem']\n",
      "12 ['great camera', 'full day']\n",
      "13 []\n",
      "14 ['beautiful phone', 'awesome feature', 'detailed update']\n"
     ]
    }
   ],
   "source": [
    "posTagged = POScombo(15, \"JJ\", \"NN\")"
   ]
  },
  {
   "cell_type": "code",
   "execution_count": 100,
   "metadata": {},
   "outputs": [
    {
     "name": "stdout",
     "output_type": "stream",
     "text": [
      "0 []\n",
      "1 []\n",
      "2 ['con i', 'price segment']\n",
      "3 ['tenth anniversary', 'display camera', 'camera wireless', 'wireless reverse', 'class processor']\n",
      "4 ['town city', 'camera zabardast', 'zabardast camera', 'camera photo', 'photo awsome', 'front camera', 'camera display', 'telephoto camera', 'display super', 'tv experience', 'experience i', 'sound sound', 'stereo speaker']\n",
      "5 ['art samsung', 'form factor', 'flagship samsung', 'company atleast']\n",
      "6 ['phone feel']\n",
      "7 ['samsung galaxy', 'galaxy s10', 'day task', 'task i']\n",
      "8 []\n",
      "9 ['weight slim', 'camera feature', 'samsung 👍👍✔']\n",
      "10 ['purchase awesome']\n",
      "11 ['problem i', 'samsung bud']\n",
      "12 ['camera topnotch', 'topnotch performancebattery', 'day medium', 'medium use', 'ui superb']\n",
      "13 ['penny samsung']\n",
      "14 ['super phone']\n"
     ]
    }
   ],
   "source": [
    "posTagged = POScombo(15, \"NN\", \"NN\")"
   ]
  },
  {
   "cell_type": "code",
   "execution_count": 101,
   "metadata": {},
   "outputs": [
    {
     "name": "stdout",
     "output_type": "stream",
     "text": [
      "0 []\n",
      "1 []\n",
      "2 ['nice awesome']\n",
      "3 []\n",
      "4 []\n",
      "5 ['wa little', 'little worried']\n",
      "6 ['wonderful great', 'great sure']\n",
      "7 ['much satisfied', 'curved screen']\n",
      "8 []\n",
      "9 ['n sleek', 'big fit', 'd frnt']\n",
      "10 []\n",
      "11 ['samsung s9plus']\n",
      "12 ['nice great']\n",
      "13 []\n",
      "14 []\n"
     ]
    }
   ],
   "source": [
    "posTagged = POScombo(15, \"JJ\", \"JJ\")"
   ]
  },
  {
   "cell_type": "code",
   "execution_count": 102,
   "metadata": {},
   "outputs": [
    {
     "name": "stdout",
     "output_type": "stream",
     "text": [
      "0 []\n",
      "1 []\n",
      "2 []\n",
      "3 []\n",
      "4 ['software update', 'phone super']\n",
      "5 []\n",
      "6 []\n",
      "7 ['look good']\n",
      "8 []\n",
      "9 ['product excellent', 'product light', 'slim n', 'hand good']\n",
      "10 []\n",
      "11 ['wa great']\n",
      "12 []\n",
      "13 []\n",
      "14 []\n"
     ]
    }
   ],
   "source": [
    "posTagged = POScombo(15, \"NN\", \"JJ\")"
   ]
  },
  {
   "cell_type": "code",
   "execution_count": 103,
   "metadata": {},
   "outputs": [
    {
     "name": "stdout",
     "output_type": "stream",
     "text": [
      "0 []\n",
      "1 []\n",
      "2 ['fast delivery']\n",
      "3 []\n",
      "4 []\n",
      "5 ['never hesitate']\n",
      "6 []\n",
      "7 ['just sit']\n",
      "8 []\n",
      "9 []\n",
      "10 []\n",
      "11 []\n",
      "12 []\n",
      "13 []\n",
      "14 []\n"
     ]
    }
   ],
   "source": [
    "posTagged = POScombo(15, \"RB\", \"NN\")"
   ]
  },
  {
   "cell_type": "code",
   "execution_count": 104,
   "metadata": {},
   "outputs": [
    {
     "name": "stdout",
     "output_type": "stream",
     "text": [
      "0 []\n",
      "1 []\n",
      "2 ['purchase fast']\n",
      "3 ['samsung back']\n",
      "4 ['display so', 'feature so']\n",
      "5 ['samsung really', 'samsung ever']\n",
      "6 []\n",
      "7 ['sit there', 'battery back']\n",
      "8 ['product so', 'while so']\n",
      "9 []\n",
      "10 []\n",
      "11 []\n",
      "12 ['performancebattery not']\n",
      "13 []\n",
      "14 ['feature just', 'update soon']\n"
     ]
    }
   ],
   "source": [
    "posTagged = POScombo(15, \"NN\", \"RB\")"
   ]
  },
  {
   "cell_type": "code",
   "execution_count": 105,
   "metadata": {},
   "outputs": [
    {
     "name": "stdout",
     "output_type": "stream",
     "text": [
      "0 []\n",
      "1 []\n",
      "2 []\n",
      "3 []\n",
      "4 ['best packaging', 'best camera']\n",
      "5 ['best tech', 'best flagship']\n",
      "6 []\n",
      "7 []\n",
      "8 []\n",
      "9 ['best part']\n",
      "10 []\n",
      "11 []\n",
      "12 []\n",
      "13 ['best cheer']\n",
      "14 ['best phone']\n"
     ]
    }
   ],
   "source": [
    "posTagged = POScombo(15, \"JJS\", \"NN\")"
   ]
  },
  {
   "cell_type": "code",
   "execution_count": 106,
   "metadata": {},
   "outputs": [
    {
     "name": "stdout",
     "output_type": "stream",
     "text": [
      "0 []\n",
      "1 []\n",
      "2 []\n",
      "3 ['increased ram']\n",
      "4 []\n",
      "5 ['built go']\n",
      "6 []\n",
      "7 []\n",
      "8 []\n",
      "9 []\n",
      "10 []\n",
      "11 []\n",
      "12 []\n",
      "13 []\n",
      "14 []\n"
     ]
    }
   ],
   "source": [
    "posTagged = POScombo(15, \"VBD\", \"VB\")"
   ]
  },
  {
   "cell_type": "code",
   "execution_count": 107,
   "metadata": {},
   "outputs": [
    {
     "name": "stdout",
     "output_type": "stream",
     "text": [
      "0 []\n",
      "1 []\n",
      "2 []\n",
      "3 []\n",
      "4 ['got phone', 'amoled display']\n",
      "5 []\n",
      "6 []\n",
      "7 []\n",
      "8 []\n",
      "9 ['led indicator']\n",
      "10 []\n",
      "11 []\n",
      "12 []\n",
      "13 []\n",
      "14 []\n"
     ]
    }
   ],
   "source": [
    "POScombo(15, \"VBD\", \"NN\")"
   ]
  },
  {
   "cell_type": "code",
   "execution_count": 108,
   "metadata": {},
   "outputs": [
    {
     "name": "stdout",
     "output_type": "stream",
     "text": [
      "0 []\n",
      "1 []\n",
      "2 []\n",
      "3 []\n",
      "4 ['watching video']\n",
      "5 ['coming w']\n",
      "6 []\n",
      "7 []\n",
      "8 []\n",
      "9 []\n",
      "10 []\n",
      "11 []\n",
      "12 []\n",
      "13 []\n",
      "14 []\n"
     ]
    }
   ],
   "source": [
    "# what users like to do with this gadget\n",
    "POScombo(15, \"VBG\", \"JJ\")"
   ]
  },
  {
   "cell_type": "code",
   "execution_count": 109,
   "metadata": {},
   "outputs": [
    {
     "name": "stdout",
     "output_type": "stream",
     "text": [
      "0 []\n",
      "1 []\n",
      "2 []\n",
      "3 ['s9 starting', 'reverse charging', 'camera making']\n",
      "4 ['content watching']\n",
      "5 []\n",
      "6 []\n",
      "7 []\n",
      "8 []\n",
      "9 []\n",
      "10 []\n",
      "11 []\n",
      "12 []\n",
      "13 []\n",
      "14 []\n"
     ]
    }
   ],
   "source": [
    "POScombo(15, \"NN\", \"VBG\")"
   ]
  },
  {
   "cell_type": "code",
   "execution_count": 110,
   "metadata": {},
   "outputs": [
    {
     "name": "stdout",
     "output_type": "stream",
     "text": [
      "0 ['awesome mobile']\n",
      "1 []\n",
      "2 []\n",
      "3 []\n",
      "4 ['give rating']\n",
      "5 []\n",
      "6 []\n",
      "7 []\n",
      "8 []\n",
      "9 []\n",
      "10 []\n",
      "11 []\n",
      "12 []\n",
      "13 []\n",
      "14 []\n"
     ]
    }
   ],
   "source": [
    "POScombo(15, \"VBP\", \"NN\")"
   ]
  },
  {
   "cell_type": "code",
   "execution_count": 111,
   "metadata": {},
   "outputs": [
    {
     "name": "stdout",
     "output_type": "stream",
     "text": [
      "0 []\n",
      "1 ['just wow']\n",
      "2 []\n",
      "3 []\n",
      "4 []\n",
      "5 []\n",
      "6 []\n",
      "7 []\n",
      "8 []\n",
      "9 []\n",
      "10 []\n",
      "11 []\n",
      "12 []\n",
      "13 []\n",
      "14 []\n"
     ]
    }
   ],
   "source": [
    "POScombo(15, \"RB\", \"WRB\")"
   ]
  },
  {
   "cell_type": "code",
   "execution_count": 112,
   "metadata": {},
   "outputs": [
    {
     "name": "stdout",
     "output_type": "stream",
     "text": [
      "0 []\n",
      "1 ['wow awesome']\n",
      "2 []\n",
      "3 []\n",
      "4 []\n",
      "5 []\n",
      "6 []\n",
      "7 []\n",
      "8 []\n",
      "9 []\n",
      "10 []\n",
      "11 []\n",
      "12 []\n",
      "13 []\n",
      "14 []\n"
     ]
    }
   ],
   "source": [
    "POScombo(15, \"WRB\", \"JJ\")"
   ]
  },
  {
   "cell_type": "code",
   "execution_count": 113,
   "metadata": {},
   "outputs": [],
   "source": [
    "#let us try to understand the context of review with help nouns.\n",
    "def Nouns(n):\n",
    "    for index,row in reviewsDF.head(n).iterrows():\n",
    "        raw = TextBlob(row['merged'])\n",
    "        raw = raw.lower()\n",
    "        raw = raw.replace(\".\",\". \")\n",
    "\n",
    "        #let us do the lemmetization   \n",
    "        rawLemma = [w.lemmatize() for w in raw.words]\n",
    "        #print(rawLemma)\n",
    "       \n",
    "        posTagged = TextBlob(\" \".join([w for w in rawLemma])).tags #  [Word(w).tags for w in rawLemma]\n",
    "        nouns = []\n",
    "        for word, tag in posTagged:\n",
    "            if tag == \"NN\":\n",
    "                nouns.append(word)\n",
    "        print(index, nouns)  "
   ]
  },
  {
   "cell_type": "code",
   "execution_count": 114,
   "metadata": {},
   "outputs": [
    {
     "name": "stdout",
     "output_type": "stream",
     "text": [
      "0 ['penny', 'mobile']\n",
      "1 ['camera']\n",
      "2 ['purchase', 'delivery', 'con', 'i', 'battery', 'price', 'segment']\n",
      "3 ['samsung', 'gun', 'tenth', 'anniversary', 'increase', 's8', 's9', 's10', 'display', 'camera', 'wireless', 'reverse', 'ui', 'class', 'processor', 'phone', 'beast', 'camera', 'league', 'feature', 'product', 'something', 'samsung', 'top']\n",
      "4 ['product', 'phone', 'day', 'town', 'city', 'packaging', 'review', 'camera', 'zabardast', 'camera', 'photo', 'awsome', 'camera', 'software', 'front', 'camera', 'display', 'flash', 'angle', 'telephoto', 'camera', 'display', 'super', 'display', 'light', 'content', 'feel', 'tv', 'experience', 'i', 'rating', 'sound', 'sound', 'phone', 'loud', 'stereo', 'speaker', 'feature']\n"
     ]
    }
   ],
   "source": [
    "Nouns(5)"
   ]
  },
  {
   "cell_type": "code",
   "execution_count": 117,
   "metadata": {},
   "outputs": [],
   "source": [
    "# Now as noun is giving us the context of review. Let us try to get reviews only for specific feature.\n",
    "def getContext(n, feat):\n",
    "    reviwes = []\n",
    "    for index,row in reviewsDF.head(n).iterrows():\n",
    "        raw = TextBlob(row['merged'])\n",
    "        raw = raw.lower()\n",
    "        raw = raw.replace(\".\",\". \")\n",
    "\n",
    "        #let us do the lemmetization   \n",
    "        rawLemma = [w.lemmatize() for w in raw.words]\n",
    "        #print(rawLemma)\n",
    "       \n",
    "        posTagged = TextBlob(\" \".join([w for w in rawLemma])).tags #  [Word(w).tags for w in rawLemma]\n",
    "        nouns = []\n",
    "        for word, tag in posTagged:\n",
    "            if tag == \"NN\" and word == feat:\n",
    "                #nouns.append(word)\n",
    "                reviwes.append(row['merged'])\n",
    "                break\n",
    "        #print(index, nouns) \n",
    "    print(len(reviwes))\n",
    "    return reviwes"
   ]
  },
  {
   "cell_type": "code",
   "execution_count": 118,
   "metadata": {},
   "outputs": [
    {
     "name": "stdout",
     "output_type": "stream",
     "text": [
      "5\n",
      "Just wow!. Awesome camera.\n",
      "\n",
      "\n",
      "Fabulous!. As expected, Samsung decided to bring in its big gun for the tenth anniversary.After only a marginal increase over S8 in the S9.starting with S10 it improves in all the aspects including display, camera, wireless reverse charging, one ui as well as best in class processor and increased ram. All of these features make this phone a beast with its pinhole camera making it first in its league to have these features. Overall a 10/10 product and something that will bring Samsung back to the top.\n",
      "\n",
      "\n",
      "Great product. Got phone in only three days in tier 3 town city.Best packaging from flipkart.my review below 1)Camera: Zabardast !!! camera photos  awsome. best camera. after  software  update  front camera display  through flash enabled .I like wide angle and telephoto camera.2)Display: Super amoled  display  so nice even in sun light we see display  content. Watching  video feel like TV experience. I give rating 10/10 3)Sound: Sound in this phone super loud and stereo  speakers. In this dolbe features. So...\n",
      "\n",
      "\n",
      "Perfect product!. Excellent product..light weight..slim n sleek..xtremely fast..not too big..fits properly in hand..good looking fone..best part is its LED indicator around d frnt camera..& features packed..u knw its a Samsung. 👍👍✔\n",
      "\n",
      "\n",
      "Really Nice. great camera topnotch performancebattery not act like 4000mahbut decent enough for full day /medium use one ui superb\n",
      "\n",
      "\n"
     ]
    }
   ],
   "source": [
    "cameraReviews = getContext(15, \"camera\")\n",
    "for r in cameraReviews:\n",
    "    print(r)\n",
    "    print(\"\\n\")"
   ]
  },
  {
   "cell_type": "code",
   "execution_count": 121,
   "metadata": {},
   "outputs": [
    {
     "name": "stdout",
     "output_type": "stream",
     "text": [
      "2\n",
      "Terrific purchase. As a samsung flagship device it's up to the standards and truly sets a benchmark for other flagships out there. 8gb of ram just makes heavy apps look like ease to play with and so the 4100mah battery speakes on this thing are loud i mean loud you wont bother to find any external speaker if you are indoor, i am really enjoying the phone hope that you will too\n",
      "\n",
      "\n",
      "Simply awesome. 1.Best display in the industry  2.Bigger Battery 3.High and performance 4.Dual speakers 5.Notch free 6.headphone Jack 7. Wireless charging 8.8gb ram and 128 GB starting model 9. 3rd best camera After Pixel and iPhone xs                                                                                  Now Think about any other  Smartphone which has the above qualities !!??? The answer is none . Go for it.\n",
      "\n",
      "\n"
     ]
    }
   ],
   "source": [
    "cameraReviews = getContext(50, \"ram\")\n",
    "for r in cameraReviews:\n",
    "    print(r)\n",
    "    print(\"\\n\")"
   ]
  },
  {
   "cell_type": "code",
   "execution_count": 123,
   "metadata": {},
   "outputs": [
    {
     "name": "stdout",
     "output_type": "stream",
     "text": [
      "4\n",
      "Fabulous!. As expected, Samsung decided to bring in its big gun for the tenth anniversary.After only a marginal increase over S8 in the S9.starting with S10 it improves in all the aspects including display, camera, wireless reverse charging, one ui as well as best in class processor and increased ram. All of these features make this phone a beast with its pinhole camera making it first in its league to have these features. Overall a 10/10 product and something that will bring Samsung back to the top.\n",
      "\n",
      "\n",
      "Great product. Got phone in only three days in tier 3 town city.Best packaging from flipkart.my review below 1)Camera: Zabardast !!! camera photos  awsome. best camera. after  software  update  front camera display  through flash enabled .I like wide angle and telephoto camera.2)Display: Super amoled  display  so nice even in sun light we see display  content. Watching  video feel like TV experience. I give rating 10/10 3)Sound: Sound in this phone super loud and stereo  speakers. In this dolbe features. So...\n",
      "\n",
      "\n",
      "Must buy!. Awesome Product! With all other features like display, camera and battery, sound quality is very nice.\n",
      "\n",
      "\n",
      "Terrific. Phone was ordered on 22nd Feb (preorder period). Received on 7th March. So 5* to Flipkart firstly.              Display and Performance like any previous generation Samsung panels is absolutely fantastic. But the innovation of punch hole display is great. Honestly, after using the phone for 2-3 days itself made be very used to it and frankly I generally don't even remember it is there. Its certainly better than the Notch. Period.                            This is my first Samsung phone and I...\n",
      "\n",
      "\n"
     ]
    }
   ],
   "source": [
    "cameraReviews = getContext(20, \"display\")\n",
    "for r in cameraReviews:\n",
    "    print(r)\n",
    "    print(\"\\n\")"
   ]
  },
  {
   "cell_type": "code",
   "execution_count": 124,
   "metadata": {},
   "outputs": [
    {
     "name": "stdout",
     "output_type": "stream",
     "text": [
      "1\n",
      "Fabulous!. As expected, Samsung decided to bring in its big gun for the tenth anniversary.After only a marginal increase over S8 in the S9.starting with S10 it improves in all the aspects including display, camera, wireless reverse charging, one ui as well as best in class processor and increased ram. All of these features make this phone a beast with its pinhole camera making it first in its league to have these features. Overall a 10/10 product and something that will bring Samsung back to the top.\n",
      "\n",
      "\n"
     ]
    }
   ],
   "source": [
    "cameraReviews = getContext(20, \"processor\")\n",
    "for r in cameraReviews:\n",
    "    print(r)\n",
    "    print(\"\\n\")"
   ]
  },
  {
   "cell_type": "code",
   "execution_count": 125,
   "metadata": {},
   "outputs": [
    {
     "name": "stdout",
     "output_type": "stream",
     "text": [
      "3\n",
      "Really Nice. Awesome Purchase & Fast DELIVERY as well.The only con I Found is that Battery could have been Much better as per the Price Segment.\n",
      "\n",
      "\n",
      "Must buy!. The Samsung Galaxy S10 plus is an phenomenal smartphone, be it camera be it gaming be it day to day tasks, I have never been so much satisfied ever before. sometimes I just sit there and look at the wallpaper and appreciate the the beauty of it. there are two issue I have  seen, the curved screen look good but its actually very delicate to hold without case and if you use the 1440p screen resolution the battery back is very poor so I keep it 1080p while outside. other than that it's like a ge...\n",
      "\n",
      "\n",
      "Must buy!. Awesome Product! With all other features like display, camera and battery, sound quality is very nice.\n",
      "\n",
      "\n"
     ]
    }
   ],
   "source": [
    "cameraReviews = getContext(20, \"battery\")\n",
    "for r in cameraReviews:\n",
    "    print(r)\n",
    "    print(\"\\n\")"
   ]
  },
  {
   "cell_type": "code",
   "execution_count": 126,
   "metadata": {},
   "outputs": [
    {
     "name": "stdout",
     "output_type": "stream",
     "text": [
      "2\n",
      "Must buy!. Awesome Product! With all other features like display, camera and battery, sound quality is very nice.\n",
      "\n",
      "\n",
      "Terrific. If u ever talk about phone talk about Samsung S10+. Best phone ever made by Samsung. I upgraded from S8+ not much difference but still u can feel the quality of the phone.\n",
      "\n",
      "\n"
     ]
    }
   ],
   "source": [
    "cameraReviews = getContext(20, \"quality\")\n",
    "for r in cameraReviews:\n",
    "    print(r)\n",
    "    print(\"\\n\")"
   ]
  },
  {
   "cell_type": "code",
   "execution_count": 129,
   "metadata": {},
   "outputs": [
    {
     "name": "stdout",
     "output_type": "stream",
     "text": [
      "1\n",
      "Great product. Got phone in only three days in tier 3 town city.Best packaging from flipkart.my review below 1)Camera: Zabardast !!! camera photos  awsome. best camera. after  software  update  front camera display  through flash enabled .I like wide angle and telephoto camera.2)Display: Super amoled  display  so nice even in sun light we see display  content. Watching  video feel like TV experience. I give rating 10/10 3)Sound: Sound in this phone super loud and stereo  speakers. In this dolbe features. So...\n",
      "\n",
      "\n"
     ]
    }
   ],
   "source": [
    "cameraReviews = getContext(100, \"front\")\n",
    "for r in cameraReviews:\n",
    "    print(r)\n",
    "    print(\"\\n\")"
   ]
  },
  {
   "cell_type": "markdown",
   "metadata": {},
   "source": [
    "### Above study shows us the feature wise reviews. Let us try to see the reviews keyword wise."
   ]
  },
  {
   "cell_type": "code",
   "execution_count": 152,
   "metadata": {},
   "outputs": [],
   "source": [
    "import re\n",
    "def getContext(n, keyword):\n",
    "    reviwes = []\n",
    "    for index,row in reviewsDF.head(n).iterrows():\n",
    "        raw = TextBlob(row['merged'])\n",
    "        raw = raw.lower()\n",
    "        raw = raw.replace(\".\",\". \")\n",
    "\n",
    "        #let us do the lemmetization   \n",
    "        rawLemma = [w.lemmatize() for w in raw.words]\n",
    "        #print(rawLemma)\n",
    "        reviewsBlob = TextBlob(\" \".join([w for w in rawLemma]))\n",
    "        for sen in reviewsBlob.split(\".\"):\n",
    "            if keyword in sen:\n",
    "                print(sen)\n",
    "        print(index, \"\\n\")\n",
    "    return reviwes"
   ]
  },
  {
   "cell_type": "code",
   "execution_count": 154,
   "metadata": {
    "scrolled": true
   },
   "outputs": [
    {
     "name": "stdout",
     "output_type": "stream",
     "text": [
      "0 \n",
      "\n",
      "1 \n",
      "\n",
      "really nice awesome purchase fast delivery a well the only con i found is that battery could have been much better a per the price segment\n",
      "2 \n",
      "\n",
      "3 \n",
      "\n",
      "4 \n",
      "\n",
      "5 \n",
      "\n",
      "6 \n",
      "\n",
      "must buy the samsung galaxy s10 plus is an phenomenal smartphone be it camera be it gaming be it day to day task i have never been so much satisfied ever before sometimes i just sit there and look at the wallpaper and appreciate the the beauty of it there are two issue i have seen the curved screen look good but it actually very delicate to hold without case and if you use the 1440p screen resolution the battery back is very poor so i keep it 1080p while outside other than that it 's like a ge\n",
      "7 \n",
      "\n",
      "8 \n",
      "\n",
      "9 \n",
      "\n",
      "10 \n",
      "\n",
      "11 \n",
      "\n",
      "really nice great camera topnotch performancebattery not act like 4000mahbut decent enough for full day medium use one ui superb\n",
      "12 \n",
      "\n",
      "13 \n",
      "\n",
      "14 \n",
      "\n"
     ]
    },
    {
     "data": {
      "text/plain": [
       "[]"
      ]
     },
     "execution_count": 154,
     "metadata": {},
     "output_type": "execute_result"
    }
   ],
   "source": [
    "getContext(15, \"battery\")"
   ]
  },
  {
   "cell_type": "code",
   "execution_count": 165,
   "metadata": {},
   "outputs": [],
   "source": [
    "from nltk.corpus import stopwords\n",
    "stpWords = set(stopwords.words('english'))\n",
    "\n",
    "def POScombo(n, firstPos, SecondPos):\n",
    "    for index,row in reviewsDF.head(n).iterrows():\n",
    "        raw = TextBlob(row['merged'])\n",
    "        raw = raw.lower()\n",
    "        raw = raw.replace(\".\",\". \")\n",
    "        \n",
    "        #let us do the lemmetization   \n",
    "        rawLemma = [w.lemmatize() for w in raw.words]\n",
    "        #print(rawLemma)\n",
    "        \n",
    "        #stop word removal\n",
    "        rawLemma = [w for w in rawLemma if w not in stpWords]\n",
    "        #print(rawLemma)\n",
    "        \n",
    "        #remove words which has length less than 3\n",
    "        rawLemma = [w for w in rawLemma if len(w) > 2]\n",
    "        print(rawLemma)\n",
    "        \n",
    "        posTagged = TextBlob(\" \".join([w for w in rawLemma])).tags #  [Word(w).tags for w in rawLemma]\n",
    "        #print(posTagged)\n",
    "        nousWithAdj = []\n",
    "        for i in range(len(posTagged)):\n",
    "            try:\n",
    "                if posTagged[i][1] == firstPos and posTagged[i+1][1] == SecondPos:\n",
    "                    nousWithAdj.append(posTagged[i][0]+' '+posTagged[i+1][0])\n",
    "            except:\n",
    "                pass\n",
    "        #print(index, nousWithAdj)    \n",
    "    #return tagged"
   ]
  },
  {
   "cell_type": "code",
   "execution_count": 166,
   "metadata": {},
   "outputs": [
    {
     "name": "stdout",
     "output_type": "stream",
     "text": [
      "['worth', 'every', 'penny', 'awesome', 'mobile']\n",
      "['wow', 'awesome', 'camera']\n",
      "['really', 'nice', 'awesome', 'purchase', 'fast', 'delivery', 'well', 'con', 'found', 'battery', 'could', 'much', 'better', 'per', 'price', 'segment']\n",
      "['fabulous', 'expected', 'samsung', 'decided', 'bring', 'big', 'gun', 'tenth', 'anniversary', 'marginal', 'increase', 'starting', 's10', 'improves', 'aspect', 'including', 'display', 'camera', 'wireless', 'reverse', 'charging', 'one', 'well', 'best', 'class', 'processor', 'increased', 'ram', 'feature', 'make', 'phone', 'beast', 'pinhole', 'camera', 'making', 'first', 'league', 'feature', 'overall', '10/10', 'product', 'something', 'bring', 'samsung', 'back', 'top']\n",
      "['great', 'product', 'got', 'phone', 'three', 'day', 'tier', 'town', 'city', 'best', 'packaging', 'flipkart', 'review', 'camera', 'zabardast', 'camera', 'photo', 'awsome', 'best', 'camera', 'software', 'update', 'front', 'camera', 'display', 'flash', 'enabled', 'like', 'wide', 'angle', 'telephoto', 'camera', 'display', 'super', 'amoled', 'display', 'nice', 'even', 'sun', 'light', 'see', 'display', 'content', 'watching', 'video', 'feel', 'like', 'experience', 'give', 'rating', '10/10', 'sound', 'sound', 'phone', 'super', 'loud', 'stereo', 'speaker', 'dolbe', 'feature']\n",
      "['fabulous', 'amazing', 'piece', 'art', 'samsung', 'really', 'never', 'hesitate', 'innovate', 'little', 'worried', 'buying', 's10', 'thought', 'would', 'large', 'hand', 'opened', 'package', 'hold', 'hand', 'feeling', 'best', 'best', 'tech', 'hand', 'amazing', 'see', 'form', 'factor', 'samsung', 'came', 'one', 'best', 'flagship', 'samsung', 'ever', 'built', 'believe', \"n't\", 'regret', \"n't\", 'company', 'atleast', '2019', 'would', 'coming']\n",
      "['wonderful', 'great', 'phone', 'feel', 'great', 'sure', 'value', 'money']\n",
      "['must', 'buy', 'samsung', 'galaxy', 's10', 'plus', 'phenomenal', 'smartphone', 'camera', 'gaming', 'day', 'day', 'task', 'never', 'much', 'satisfied', 'ever', 'sometimes', 'sit', 'look', 'wallpaper', 'appreciate', 'beauty', 'two', 'issue', 'seen', 'curved', 'screen', 'look', 'good', 'actually', 'delicate', 'hold', 'without', 'case', 'use', '1440p', 'screen', 'resolution', 'battery', 'back', 'poor', 'keep', '1080p', 'outside', 'like']\n",
      "['best', 'market', 'one', 'innovative', 'product', 'far', 'samsung', 'give', 'full', 'review', 'using', 'far', 'interesting', 'play', 'device']\n",
      "['perfect', 'product', 'excellent', 'product', 'light', 'weight', 'slim', 'sleek', 'xtremely', 'fast', 'big', 'fit', 'properly', 'hand', 'good', 'looking', 'fone', 'best', 'part', 'led', 'indicator', 'around', 'frnt', 'camera', 'feature', 'packed', 'knw', 'samsung', '👍👍✔']\n"
     ]
    }
   ],
   "source": [
    "POScombo(10, \"JJ\", \"NN\")"
   ]
  },
  {
   "cell_type": "code",
   "execution_count": 185,
   "metadata": {},
   "outputs": [],
   "source": [
    "def getReviewsForFeatures(n, feat):\n",
    "    for index,row in reviewsDF.head(n).iterrows():\n",
    "        raw = TextBlob(row['merged'])\n",
    "        raw = raw.lower()\n",
    "        raw = raw.replace(\".\",\". \")\n",
    "        \n",
    "        #let us do the lemmetization   \n",
    "        rawLemma = [w.lemmatize() for w in raw.words]\n",
    "        #print(rawLemma)\n",
    "        \n",
    "        #stop word removal\n",
    "        rawLemma = [w for w in rawLemma if w not in stpWords]\n",
    "        #print(rawLemma)\n",
    "        \n",
    "        #remove words which has length less than 3\n",
    "        rawLemma = [w for w in rawLemma if len(w) > 2]\n",
    "        #print(rawLemma)\n",
    "        \n",
    "        posTagged = TextBlob(\" \".join([w for w in rawLemma])).tags #  [Word(w).tags for w in rawLemma]\n",
    "        #print(posTagged)\n",
    "        nousWithAdj = []\n",
    "        for i in range(len(posTagged)):\n",
    "            try:\n",
    "                if (posTagged[i][1] == \"JJ\" and posTagged[i+1][1] == \"NN\") and posTagged[i+1][0] == feat:\n",
    "                    print(index, row['merged'])\n",
    "                    break\n",
    "                elif (posTagged[i][1] == \"NN\" and posTagged[i+1][1] == \"JJ\") and posTagged[i][0] == feat:\n",
    "                    print(index, row['merged'])\n",
    "                    break\n",
    "                    \n",
    "                elif (posTagged[i][1] == \"JJS\" and posTagged[i+1][1] == \"NN\") and posTagged[i][0] == feat:\n",
    "                    print(index, row['merged'])\n",
    "                    break\n",
    "                    \n",
    "                elif (posTagged[i][1] == \"NN\" and posTagged[i+1][1] == \"JJS\") and posTagged[i][0] == feat:\n",
    "                    print(index, row['merged'])\n",
    "                    break\n",
    "                    #nousWithAdj.append(posTagged[i][0]+' '+posTagged[i+1][0])\n",
    "            except:\n",
    "                pass\n",
    "        #print(index, nousWithAdj)    \n",
    "    #return tagged"
   ]
  },
  {
   "cell_type": "code",
   "execution_count": 189,
   "metadata": {},
   "outputs": [
    {
     "name": "stdout",
     "output_type": "stream",
     "text": [
      "1 Just wow!. Awesome camera.\n",
      "9 Perfect product!. Excellent product..light weight..slim n sleek..xtremely fast..not too big..fits properly in hand..good looking fone..best part is its LED indicator around d frnt camera..& features packed..u knw its a Samsung. 👍👍✔\n",
      "12 Really Nice. great camera topnotch performancebattery not act like 4000mahbut decent enough for full day /medium use one ui superb\n",
      "27 Great product. Beautiful design and the best screen in any smartphone.The wide-angle camera is unbelievable.\n",
      "40 Just wow!. Superb design, Looks very stylish. Camera quality is awesome.\n",
      "45 Pretty good. Stunning, rich, and vibrant display. Clear, loud, and crisp-sounding speakers. Smooth performance. Attractive design. Great build. Fits naturally in your hand. Excellent network reception. Great battery life. Great ultrawide-angle camera, although image quality needs to be improved. Video recording is top-notch. In-display fingerprint scanner needs to be more accurate. Sound via headphones is excellent.  Charging is fast, but not as fast as Oppo and Oneplus phones. Night photography needs to ...\n",
      "49 Must buy!. Got it pre ordered and been hard wait ever since. The display is gorgeous, I literally thought it was a sticker when I first saw it, the calibration was on point, and mind you I come from s7 edge which already had a great display to begin with. After a recent update in India, I feel the fingerprint is much better. The camera is great, but I wish it had night mode and better zoom lens, I love zoom shots more than wide. The battery life is good, but I think it still can be better, especially th...\n"
     ]
    }
   ],
   "source": [
    "getReviewsForFeatures(50, \"camera\")"
   ]
  },
  {
   "cell_type": "code",
   "execution_count": null,
   "metadata": {},
   "outputs": [],
   "source": []
  },
  {
   "cell_type": "code",
   "execution_count": null,
   "metadata": {},
   "outputs": [],
   "source": []
  }
 ],
 "metadata": {
  "kernelspec": {
   "display_name": "Python 3",
   "language": "python",
   "name": "python3"
  },
  "language_info": {
   "codemirror_mode": {
    "name": "ipython",
    "version": 3
   },
   "file_extension": ".py",
   "mimetype": "text/x-python",
   "name": "python",
   "nbconvert_exporter": "python",
   "pygments_lexer": "ipython3",
   "version": "3.7.3"
  }
 },
 "nbformat": 4,
 "nbformat_minor": 2
}
